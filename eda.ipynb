{
  "nbformat": 4,
  "nbformat_minor": 0,
  "metadata": {
    "colab": {
      "provenance": []
    },
    "kernelspec": {
      "name": "python3",
      "display_name": "Python 3"
    },
    "language_info": {
      "name": "python"
    }
  },
  "cells": [
    {
      "cell_type": "markdown",
      "source": [
        "#### 📚 Importando as bibliotecas necessárias"
      ],
      "metadata": {
        "id": "oo7eYcNi0KAT"
      }
    },
    {
      "cell_type": "code",
      "execution_count": null,
      "metadata": {
        "id": "RLNpG4EGj8-Y"
      },
      "outputs": [],
      "source": [
        "import pandas as pd\n",
        "import random\n",
        "import matplotlib.pyplot as plt \n",
        "import seaborn as sns\n",
        "import numpy as np"
      ]
    },
    {
      "cell_type": "markdown",
      "source": [
        "#### 🔁 Conectando o Google Colab ao Google Drive"
      ],
      "metadata": {
        "id": "570xV09I0ZSI"
      }
    },
    {
      "cell_type": "code",
      "source": [
        "from google.colab import drive\n",
        "drive.mount('/content/drive/')"
      ],
      "metadata": {
        "colab": {
          "base_uri": "https://localhost:8080/"
        },
        "id": "-ITz5wqGQ1FW",
        "outputId": "dba219cb-adcf-47a7-8305-d2709d62ce4f"
      },
      "execution_count": null,
      "outputs": [
        {
          "output_type": "stream",
          "name": "stdout",
          "text": [
            "Drive already mounted at /content/drive/; to attempt to forcibly remount, call drive.mount(\"/content/drive/\", force_remount=True).\n"
          ]
        }
      ]
    },
    {
      "cell_type": "markdown",
      "source": [
        "#### 🎲 Importando os dados"
      ],
      "metadata": {
        "id": "EBVnSZFy0o0p"
      }
    },
    {
      "cell_type": "markdown",
      "source": [
        "1. Utilizamos o encoding ISO-8859-1 para processar todos os caracteres do arquivo\n",
        "2. Separamos uma amostra aleatória de 30% dos dados disponíveis"
      ],
      "metadata": {
        "id": "ojwDasmQ22uF"
      }
    },
    {
      "cell_type": "code",
      "source": [
        "df = pd.read_csv(\n",
        "    '/content/drive/MyDrive/Dados/MICRODADOS_ENEM_2021.csv',\n",
        "    header=0,\n",
        "    encoding = \"ISO-8859-1\",\n",
        "    skiprows=lambda i: i > 0 and random.random() > 0.3,\n",
        "    sep=';'\n",
        ")"
      ],
      "metadata": {
        "id": "nwH1XbGecN89"
      },
      "execution_count": null,
      "outputs": []
    },
    {
      "cell_type": "markdown",
      "source": [
        "#### 👀 Dando uma olhada na estrutura geral dos dados"
      ],
      "metadata": {
        "id": "QOgxwXQq1MMH"
      }
    },
    {
      "cell_type": "code",
      "source": [
        "df.head(3)"
      ],
      "metadata": {
        "colab": {
          "base_uri": "https://localhost:8080/",
          "height": 237
        },
        "id": "AZoQ-A3Cf-8h",
        "outputId": "21984299-374b-4ef5-c947-9fd500b69c72"
      },
      "execution_count": null,
      "outputs": [
        {
          "output_type": "execute_result",
          "data": {
            "text/plain": [
              "   NU_INSCRICAO  NU_ANO  TP_FAIXA_ETARIA TP_SEXO  TP_ESTADO_CIVIL  \\\n",
              "0  210053865474    2021                5       F                1   \n",
              "1  210052384164    2021               12       M                1   \n",
              "2  210052589243    2021               13       F                3   \n",
              "\n",
              "   TP_COR_RACA  TP_NACIONALIDADE  TP_ST_CONCLUSAO  TP_ANO_CONCLUIU  TP_ESCOLA  \\\n",
              "0            1                 1                1                3          1   \n",
              "1            1                 1                1               11          1   \n",
              "2            1                 1                1               15          1   \n",
              "\n",
              "   ...  Q016  Q017  Q018 Q019  Q020 Q021  Q022  Q023  Q024  Q025  \n",
              "0  ...     A     A     A    B     A    A     B     A     B     B  \n",
              "1  ...     A     A     A    B     A    A     C     A     A     A  \n",
              "2  ...     B     A     A    B     A    A     C     B     B     B  \n",
              "\n",
              "[3 rows x 76 columns]"
            ],
            "text/html": [
              "\n",
              "  <div id=\"df-9d07eb5b-291e-41f1-b1f8-069549ae2d25\">\n",
              "    <div class=\"colab-df-container\">\n",
              "      <div>\n",
              "<style scoped>\n",
              "    .dataframe tbody tr th:only-of-type {\n",
              "        vertical-align: middle;\n",
              "    }\n",
              "\n",
              "    .dataframe tbody tr th {\n",
              "        vertical-align: top;\n",
              "    }\n",
              "\n",
              "    .dataframe thead th {\n",
              "        text-align: right;\n",
              "    }\n",
              "</style>\n",
              "<table border=\"1\" class=\"dataframe\">\n",
              "  <thead>\n",
              "    <tr style=\"text-align: right;\">\n",
              "      <th></th>\n",
              "      <th>NU_INSCRICAO</th>\n",
              "      <th>NU_ANO</th>\n",
              "      <th>TP_FAIXA_ETARIA</th>\n",
              "      <th>TP_SEXO</th>\n",
              "      <th>TP_ESTADO_CIVIL</th>\n",
              "      <th>TP_COR_RACA</th>\n",
              "      <th>TP_NACIONALIDADE</th>\n",
              "      <th>TP_ST_CONCLUSAO</th>\n",
              "      <th>TP_ANO_CONCLUIU</th>\n",
              "      <th>TP_ESCOLA</th>\n",
              "      <th>...</th>\n",
              "      <th>Q016</th>\n",
              "      <th>Q017</th>\n",
              "      <th>Q018</th>\n",
              "      <th>Q019</th>\n",
              "      <th>Q020</th>\n",
              "      <th>Q021</th>\n",
              "      <th>Q022</th>\n",
              "      <th>Q023</th>\n",
              "      <th>Q024</th>\n",
              "      <th>Q025</th>\n",
              "    </tr>\n",
              "  </thead>\n",
              "  <tbody>\n",
              "    <tr>\n",
              "      <th>0</th>\n",
              "      <td>210053865474</td>\n",
              "      <td>2021</td>\n",
              "      <td>5</td>\n",
              "      <td>F</td>\n",
              "      <td>1</td>\n",
              "      <td>1</td>\n",
              "      <td>1</td>\n",
              "      <td>1</td>\n",
              "      <td>3</td>\n",
              "      <td>1</td>\n",
              "      <td>...</td>\n",
              "      <td>A</td>\n",
              "      <td>A</td>\n",
              "      <td>A</td>\n",
              "      <td>B</td>\n",
              "      <td>A</td>\n",
              "      <td>A</td>\n",
              "      <td>B</td>\n",
              "      <td>A</td>\n",
              "      <td>B</td>\n",
              "      <td>B</td>\n",
              "    </tr>\n",
              "    <tr>\n",
              "      <th>1</th>\n",
              "      <td>210052384164</td>\n",
              "      <td>2021</td>\n",
              "      <td>12</td>\n",
              "      <td>M</td>\n",
              "      <td>1</td>\n",
              "      <td>1</td>\n",
              "      <td>1</td>\n",
              "      <td>1</td>\n",
              "      <td>11</td>\n",
              "      <td>1</td>\n",
              "      <td>...</td>\n",
              "      <td>A</td>\n",
              "      <td>A</td>\n",
              "      <td>A</td>\n",
              "      <td>B</td>\n",
              "      <td>A</td>\n",
              "      <td>A</td>\n",
              "      <td>C</td>\n",
              "      <td>A</td>\n",
              "      <td>A</td>\n",
              "      <td>A</td>\n",
              "    </tr>\n",
              "    <tr>\n",
              "      <th>2</th>\n",
              "      <td>210052589243</td>\n",
              "      <td>2021</td>\n",
              "      <td>13</td>\n",
              "      <td>F</td>\n",
              "      <td>3</td>\n",
              "      <td>1</td>\n",
              "      <td>1</td>\n",
              "      <td>1</td>\n",
              "      <td>15</td>\n",
              "      <td>1</td>\n",
              "      <td>...</td>\n",
              "      <td>B</td>\n",
              "      <td>A</td>\n",
              "      <td>A</td>\n",
              "      <td>B</td>\n",
              "      <td>A</td>\n",
              "      <td>A</td>\n",
              "      <td>C</td>\n",
              "      <td>B</td>\n",
              "      <td>B</td>\n",
              "      <td>B</td>\n",
              "    </tr>\n",
              "  </tbody>\n",
              "</table>\n",
              "<p>3 rows × 76 columns</p>\n",
              "</div>\n",
              "      <button class=\"colab-df-convert\" onclick=\"convertToInteractive('df-9d07eb5b-291e-41f1-b1f8-069549ae2d25')\"\n",
              "              title=\"Convert this dataframe to an interactive table.\"\n",
              "              style=\"display:none;\">\n",
              "        \n",
              "  <svg xmlns=\"http://www.w3.org/2000/svg\" height=\"24px\"viewBox=\"0 0 24 24\"\n",
              "       width=\"24px\">\n",
              "    <path d=\"M0 0h24v24H0V0z\" fill=\"none\"/>\n",
              "    <path d=\"M18.56 5.44l.94 2.06.94-2.06 2.06-.94-2.06-.94-.94-2.06-.94 2.06-2.06.94zm-11 1L8.5 8.5l.94-2.06 2.06-.94-2.06-.94L8.5 2.5l-.94 2.06-2.06.94zm10 10l.94 2.06.94-2.06 2.06-.94-2.06-.94-.94-2.06-.94 2.06-2.06.94z\"/><path d=\"M17.41 7.96l-1.37-1.37c-.4-.4-.92-.59-1.43-.59-.52 0-1.04.2-1.43.59L10.3 9.45l-7.72 7.72c-.78.78-.78 2.05 0 2.83L4 21.41c.39.39.9.59 1.41.59.51 0 1.02-.2 1.41-.59l7.78-7.78 2.81-2.81c.8-.78.8-2.07 0-2.86zM5.41 20L4 18.59l7.72-7.72 1.47 1.35L5.41 20z\"/>\n",
              "  </svg>\n",
              "      </button>\n",
              "      \n",
              "  <style>\n",
              "    .colab-df-container {\n",
              "      display:flex;\n",
              "      flex-wrap:wrap;\n",
              "      gap: 12px;\n",
              "    }\n",
              "\n",
              "    .colab-df-convert {\n",
              "      background-color: #E8F0FE;\n",
              "      border: none;\n",
              "      border-radius: 50%;\n",
              "      cursor: pointer;\n",
              "      display: none;\n",
              "      fill: #1967D2;\n",
              "      height: 32px;\n",
              "      padding: 0 0 0 0;\n",
              "      width: 32px;\n",
              "    }\n",
              "\n",
              "    .colab-df-convert:hover {\n",
              "      background-color: #E2EBFA;\n",
              "      box-shadow: 0px 1px 2px rgba(60, 64, 67, 0.3), 0px 1px 3px 1px rgba(60, 64, 67, 0.15);\n",
              "      fill: #174EA6;\n",
              "    }\n",
              "\n",
              "    [theme=dark] .colab-df-convert {\n",
              "      background-color: #3B4455;\n",
              "      fill: #D2E3FC;\n",
              "    }\n",
              "\n",
              "    [theme=dark] .colab-df-convert:hover {\n",
              "      background-color: #434B5C;\n",
              "      box-shadow: 0px 1px 3px 1px rgba(0, 0, 0, 0.15);\n",
              "      filter: drop-shadow(0px 1px 2px rgba(0, 0, 0, 0.3));\n",
              "      fill: #FFFFFF;\n",
              "    }\n",
              "  </style>\n",
              "\n",
              "      <script>\n",
              "        const buttonEl =\n",
              "          document.querySelector('#df-9d07eb5b-291e-41f1-b1f8-069549ae2d25 button.colab-df-convert');\n",
              "        buttonEl.style.display =\n",
              "          google.colab.kernel.accessAllowed ? 'block' : 'none';\n",
              "\n",
              "        async function convertToInteractive(key) {\n",
              "          const element = document.querySelector('#df-9d07eb5b-291e-41f1-b1f8-069549ae2d25');\n",
              "          const dataTable =\n",
              "            await google.colab.kernel.invokeFunction('convertToInteractive',\n",
              "                                                     [key], {});\n",
              "          if (!dataTable) return;\n",
              "\n",
              "          const docLinkHtml = 'Like what you see? Visit the ' +\n",
              "            '<a target=\"_blank\" href=https://colab.research.google.com/notebooks/data_table.ipynb>data table notebook</a>'\n",
              "            + ' to learn more about interactive tables.';\n",
              "          element.innerHTML = '';\n",
              "          dataTable['output_type'] = 'display_data';\n",
              "          await google.colab.output.renderOutput(dataTable, element);\n",
              "          const docLink = document.createElement('div');\n",
              "          docLink.innerHTML = docLinkHtml;\n",
              "          element.appendChild(docLink);\n",
              "        }\n",
              "      </script>\n",
              "    </div>\n",
              "  </div>\n",
              "  "
            ]
          },
          "metadata": {},
          "execution_count": 4
        }
      ]
    },
    {
      "cell_type": "code",
      "source": [
        "df.info()"
      ],
      "metadata": {
        "colab": {
          "base_uri": "https://localhost:8080/"
        },
        "id": "_1oxw1Pbhw5u",
        "outputId": "4d9a2e88-aa8c-479f-97e8-d560ed667d2a"
      },
      "execution_count": null,
      "outputs": [
        {
          "output_type": "stream",
          "name": "stdout",
          "text": [
            "<class 'pandas.core.frame.DataFrame'>\n",
            "RangeIndex: 1016558 entries, 0 to 1016557\n",
            "Data columns (total 76 columns):\n",
            " #   Column                  Non-Null Count    Dtype  \n",
            "---  ------                  --------------    -----  \n",
            " 0   NU_INSCRICAO            1016558 non-null  int64  \n",
            " 1   NU_ANO                  1016558 non-null  int64  \n",
            " 2   TP_FAIXA_ETARIA         1016558 non-null  int64  \n",
            " 3   TP_SEXO                 1016558 non-null  object \n",
            " 4   TP_ESTADO_CIVIL         1016558 non-null  int64  \n",
            " 5   TP_COR_RACA             1016558 non-null  int64  \n",
            " 6   TP_NACIONALIDADE        1016558 non-null  int64  \n",
            " 7   TP_ST_CONCLUSAO         1016558 non-null  int64  \n",
            " 8   TP_ANO_CONCLUIU         1016558 non-null  int64  \n",
            " 9   TP_ESCOLA               1016558 non-null  int64  \n",
            " 10  TP_ENSINO               329652 non-null   float64\n",
            " 11  IN_TREINEIRO            1016558 non-null  int64  \n",
            " 12  CO_MUNICIPIO_ESC        244326 non-null   float64\n",
            " 13  NO_MUNICIPIO_ESC        244326 non-null   object \n",
            " 14  CO_UF_ESC               244326 non-null   float64\n",
            " 15  SG_UF_ESC               244326 non-null   object \n",
            " 16  TP_DEPENDENCIA_ADM_ESC  244326 non-null   float64\n",
            " 17  TP_LOCALIZACAO_ESC      244326 non-null   float64\n",
            " 18  TP_SIT_FUNC_ESC         244326 non-null   float64\n",
            " 19  CO_MUNICIPIO_PROVA      1016558 non-null  int64  \n",
            " 20  NO_MUNICIPIO_PROVA      1016558 non-null  object \n",
            " 21  CO_UF_PROVA             1016558 non-null  int64  \n",
            " 22  SG_UF_PROVA             1016558 non-null  object \n",
            " 23  TP_PRESENCA_CN          1016558 non-null  int64  \n",
            " 24  TP_PRESENCA_CH          1016558 non-null  int64  \n",
            " 25  TP_PRESENCA_LC          1016558 non-null  int64  \n",
            " 26  TP_PRESENCA_MT          1016558 non-null  int64  \n",
            " 27  CO_PROVA_CN             673183 non-null   float64\n",
            " 28  CO_PROVA_CH             712610 non-null   float64\n",
            " 29  CO_PROVA_LC             712610 non-null   float64\n",
            " 30  CO_PROVA_MT             673183 non-null   float64\n",
            " 31  NU_NOTA_CN              673183 non-null   float64\n",
            " 32  NU_NOTA_CH              712610 non-null   float64\n",
            " 33  NU_NOTA_LC              712610 non-null   float64\n",
            " 34  NU_NOTA_MT              673183 non-null   float64\n",
            " 35  TX_RESPOSTAS_CN         673183 non-null   object \n",
            " 36  TX_RESPOSTAS_CH         712610 non-null   object \n",
            " 37  TX_RESPOSTAS_LC         712610 non-null   object \n",
            " 38  TX_RESPOSTAS_MT         673183 non-null   object \n",
            " 39  TP_LINGUA               1016558 non-null  int64  \n",
            " 40  TX_GABARITO_CN          673183 non-null   object \n",
            " 41  TX_GABARITO_CH          712610 non-null   object \n",
            " 42  TX_GABARITO_LC          712610 non-null   object \n",
            " 43  TX_GABARITO_MT          673183 non-null   object \n",
            " 44  TP_STATUS_REDACAO       712610 non-null   float64\n",
            " 45  NU_NOTA_COMP1           712610 non-null   float64\n",
            " 46  NU_NOTA_COMP2           712610 non-null   float64\n",
            " 47  NU_NOTA_COMP3           712610 non-null   float64\n",
            " 48  NU_NOTA_COMP4           712610 non-null   float64\n",
            " 49  NU_NOTA_COMP5           712610 non-null   float64\n",
            " 50  NU_NOTA_REDACAO         712610 non-null   float64\n",
            " 51  Q001                    1016556 non-null  object \n",
            " 52  Q002                    1016556 non-null  object \n",
            " 53  Q003                    1016556 non-null  object \n",
            " 54  Q004                    1016556 non-null  object \n",
            " 55  Q005                    1016556 non-null  float64\n",
            " 56  Q006                    1016556 non-null  object \n",
            " 57  Q007                    1016556 non-null  object \n",
            " 58  Q008                    1016556 non-null  object \n",
            " 59  Q009                    1016556 non-null  object \n",
            " 60  Q010                    1016556 non-null  object \n",
            " 61  Q011                    1016556 non-null  object \n",
            " 62  Q012                    1016556 non-null  object \n",
            " 63  Q013                    1016556 non-null  object \n",
            " 64  Q014                    1016556 non-null  object \n",
            " 65  Q015                    1016556 non-null  object \n",
            " 66  Q016                    1016556 non-null  object \n",
            " 67  Q017                    1016556 non-null  object \n",
            " 68  Q018                    1016556 non-null  object \n",
            " 69  Q019                    1016556 non-null  object \n",
            " 70  Q020                    1016556 non-null  object \n",
            " 71  Q021                    1016556 non-null  object \n",
            " 72  Q022                    1016556 non-null  object \n",
            " 73  Q023                    1016556 non-null  object \n",
            " 74  Q024                    1016556 non-null  object \n",
            " 75  Q025                    1016556 non-null  object \n",
            "dtypes: float64(22), int64(17), object(37)\n",
            "memory usage: 589.4+ MB\n"
          ]
        }
      ]
    },
    {
      "cell_type": "code",
      "source": [
        "np.mean(df['NU_NOTA_MT'])"
      ],
      "metadata": {
        "colab": {
          "base_uri": "https://localhost:8080/"
        },
        "id": "9XCIlb4d8nQG",
        "outputId": "b0974520-dbb5-463d-accb-fc19c3b8dcdf"
      },
      "execution_count": null,
      "outputs": [
        {
          "output_type": "execute_result",
          "data": {
            "text/plain": [
              "534.8740733203305"
            ]
          },
          "metadata": {},
          "execution_count": 6
        }
      ]
    },
    {
      "cell_type": "markdown",
      "source": [
        "#### 📊 Criando um DataFrame apenas com os atributos que vão ser interessantes para o nosso modelo\n"
      ],
      "metadata": {
        "id": "UXx7WHbK12qe"
      }
    },
    {
      "cell_type": "markdown",
      "source": [
        "1. TP_ESCOLA = Tipo de escola [Não respondeu (1), Pública (2), Privada (3)]\n",
        "2. TP_FAIXA_ETARIA = Grupos de faixas etárias\n",
        "3. TP_COR_RACA = Grupos raciais de acordo com o IBGE\n",
        "4. Q001 = Escolaridade do pai\n",
        "5. Q002 = Escolaridade da Mãe\n",
        "6. Q005 = Quantas pessoas moram na mesma casa que o candidato\n",
        "7. Q006 = Renda mensal da família\n",
        "8. Q024 = Quantidade de computadores na casa\n",
        "9. Q025 = Acesso a internet [Não (A), Sim (B)]\n",
        "10. NU_NOTA_MT = Nota da prova de matemática"
      ],
      "metadata": {
        "id": "76krzoia2yqn"
      }
    },
    {
      "cell_type": "code",
      "source": [
        "filtro_atributos = ['TP_ESCOLA', 'TP_FAIXA_ETARIA', 'TP_COR_RACA', 'Q001', 'Q002', 'Q005','Q006','Q024','Q025','NU_NOTA_MT']\n",
        "model_df = df[filtro_atributos]\n",
        "model_df = model_df.copy()\n",
        "model_df.head()"
      ],
      "metadata": {
        "colab": {
          "base_uri": "https://localhost:8080/",
          "height": 206
        },
        "id": "8T7uIK22hy3I",
        "outputId": "b5f2d8c8-7c62-4bb2-c716-eb470ed2e187"
      },
      "execution_count": null,
      "outputs": [
        {
          "output_type": "execute_result",
          "data": {
            "text/plain": [
              "   TP_ESCOLA  TP_FAIXA_ETARIA  TP_COR_RACA Q001 Q002  Q005 Q006 Q024 Q025  \\\n",
              "0          1                5            1    F    F   3.0    D    B    B   \n",
              "1          1               12            1    B    B   3.0    B    A    A   \n",
              "2          1               13            1    B    C   3.0    C    B    B   \n",
              "3          1               11            3    E    E   3.0    C    B    B   \n",
              "4          1                5            2    B    E   4.0    D    A    B   \n",
              "\n",
              "   NU_NOTA_MT  \n",
              "0         NaN  \n",
              "1       461.5  \n",
              "2         NaN  \n",
              "3       509.7  \n",
              "4         NaN  "
            ],
            "text/html": [
              "\n",
              "  <div id=\"df-227bdbe0-64b0-443b-8b95-ad8f37a89a3f\">\n",
              "    <div class=\"colab-df-container\">\n",
              "      <div>\n",
              "<style scoped>\n",
              "    .dataframe tbody tr th:only-of-type {\n",
              "        vertical-align: middle;\n",
              "    }\n",
              "\n",
              "    .dataframe tbody tr th {\n",
              "        vertical-align: top;\n",
              "    }\n",
              "\n",
              "    .dataframe thead th {\n",
              "        text-align: right;\n",
              "    }\n",
              "</style>\n",
              "<table border=\"1\" class=\"dataframe\">\n",
              "  <thead>\n",
              "    <tr style=\"text-align: right;\">\n",
              "      <th></th>\n",
              "      <th>TP_ESCOLA</th>\n",
              "      <th>TP_FAIXA_ETARIA</th>\n",
              "      <th>TP_COR_RACA</th>\n",
              "      <th>Q001</th>\n",
              "      <th>Q002</th>\n",
              "      <th>Q005</th>\n",
              "      <th>Q006</th>\n",
              "      <th>Q024</th>\n",
              "      <th>Q025</th>\n",
              "      <th>NU_NOTA_MT</th>\n",
              "    </tr>\n",
              "  </thead>\n",
              "  <tbody>\n",
              "    <tr>\n",
              "      <th>0</th>\n",
              "      <td>1</td>\n",
              "      <td>5</td>\n",
              "      <td>1</td>\n",
              "      <td>F</td>\n",
              "      <td>F</td>\n",
              "      <td>3.0</td>\n",
              "      <td>D</td>\n",
              "      <td>B</td>\n",
              "      <td>B</td>\n",
              "      <td>NaN</td>\n",
              "    </tr>\n",
              "    <tr>\n",
              "      <th>1</th>\n",
              "      <td>1</td>\n",
              "      <td>12</td>\n",
              "      <td>1</td>\n",
              "      <td>B</td>\n",
              "      <td>B</td>\n",
              "      <td>3.0</td>\n",
              "      <td>B</td>\n",
              "      <td>A</td>\n",
              "      <td>A</td>\n",
              "      <td>461.5</td>\n",
              "    </tr>\n",
              "    <tr>\n",
              "      <th>2</th>\n",
              "      <td>1</td>\n",
              "      <td>13</td>\n",
              "      <td>1</td>\n",
              "      <td>B</td>\n",
              "      <td>C</td>\n",
              "      <td>3.0</td>\n",
              "      <td>C</td>\n",
              "      <td>B</td>\n",
              "      <td>B</td>\n",
              "      <td>NaN</td>\n",
              "    </tr>\n",
              "    <tr>\n",
              "      <th>3</th>\n",
              "      <td>1</td>\n",
              "      <td>11</td>\n",
              "      <td>3</td>\n",
              "      <td>E</td>\n",
              "      <td>E</td>\n",
              "      <td>3.0</td>\n",
              "      <td>C</td>\n",
              "      <td>B</td>\n",
              "      <td>B</td>\n",
              "      <td>509.7</td>\n",
              "    </tr>\n",
              "    <tr>\n",
              "      <th>4</th>\n",
              "      <td>1</td>\n",
              "      <td>5</td>\n",
              "      <td>2</td>\n",
              "      <td>B</td>\n",
              "      <td>E</td>\n",
              "      <td>4.0</td>\n",
              "      <td>D</td>\n",
              "      <td>A</td>\n",
              "      <td>B</td>\n",
              "      <td>NaN</td>\n",
              "    </tr>\n",
              "  </tbody>\n",
              "</table>\n",
              "</div>\n",
              "      <button class=\"colab-df-convert\" onclick=\"convertToInteractive('df-227bdbe0-64b0-443b-8b95-ad8f37a89a3f')\"\n",
              "              title=\"Convert this dataframe to an interactive table.\"\n",
              "              style=\"display:none;\">\n",
              "        \n",
              "  <svg xmlns=\"http://www.w3.org/2000/svg\" height=\"24px\"viewBox=\"0 0 24 24\"\n",
              "       width=\"24px\">\n",
              "    <path d=\"M0 0h24v24H0V0z\" fill=\"none\"/>\n",
              "    <path d=\"M18.56 5.44l.94 2.06.94-2.06 2.06-.94-2.06-.94-.94-2.06-.94 2.06-2.06.94zm-11 1L8.5 8.5l.94-2.06 2.06-.94-2.06-.94L8.5 2.5l-.94 2.06-2.06.94zm10 10l.94 2.06.94-2.06 2.06-.94-2.06-.94-.94-2.06-.94 2.06-2.06.94z\"/><path d=\"M17.41 7.96l-1.37-1.37c-.4-.4-.92-.59-1.43-.59-.52 0-1.04.2-1.43.59L10.3 9.45l-7.72 7.72c-.78.78-.78 2.05 0 2.83L4 21.41c.39.39.9.59 1.41.59.51 0 1.02-.2 1.41-.59l7.78-7.78 2.81-2.81c.8-.78.8-2.07 0-2.86zM5.41 20L4 18.59l7.72-7.72 1.47 1.35L5.41 20z\"/>\n",
              "  </svg>\n",
              "      </button>\n",
              "      \n",
              "  <style>\n",
              "    .colab-df-container {\n",
              "      display:flex;\n",
              "      flex-wrap:wrap;\n",
              "      gap: 12px;\n",
              "    }\n",
              "\n",
              "    .colab-df-convert {\n",
              "      background-color: #E8F0FE;\n",
              "      border: none;\n",
              "      border-radius: 50%;\n",
              "      cursor: pointer;\n",
              "      display: none;\n",
              "      fill: #1967D2;\n",
              "      height: 32px;\n",
              "      padding: 0 0 0 0;\n",
              "      width: 32px;\n",
              "    }\n",
              "\n",
              "    .colab-df-convert:hover {\n",
              "      background-color: #E2EBFA;\n",
              "      box-shadow: 0px 1px 2px rgba(60, 64, 67, 0.3), 0px 1px 3px 1px rgba(60, 64, 67, 0.15);\n",
              "      fill: #174EA6;\n",
              "    }\n",
              "\n",
              "    [theme=dark] .colab-df-convert {\n",
              "      background-color: #3B4455;\n",
              "      fill: #D2E3FC;\n",
              "    }\n",
              "\n",
              "    [theme=dark] .colab-df-convert:hover {\n",
              "      background-color: #434B5C;\n",
              "      box-shadow: 0px 1px 3px 1px rgba(0, 0, 0, 0.15);\n",
              "      filter: drop-shadow(0px 1px 2px rgba(0, 0, 0, 0.3));\n",
              "      fill: #FFFFFF;\n",
              "    }\n",
              "  </style>\n",
              "\n",
              "      <script>\n",
              "        const buttonEl =\n",
              "          document.querySelector('#df-227bdbe0-64b0-443b-8b95-ad8f37a89a3f button.colab-df-convert');\n",
              "        buttonEl.style.display =\n",
              "          google.colab.kernel.accessAllowed ? 'block' : 'none';\n",
              "\n",
              "        async function convertToInteractive(key) {\n",
              "          const element = document.querySelector('#df-227bdbe0-64b0-443b-8b95-ad8f37a89a3f');\n",
              "          const dataTable =\n",
              "            await google.colab.kernel.invokeFunction('convertToInteractive',\n",
              "                                                     [key], {});\n",
              "          if (!dataTable) return;\n",
              "\n",
              "          const docLinkHtml = 'Like what you see? Visit the ' +\n",
              "            '<a target=\"_blank\" href=https://colab.research.google.com/notebooks/data_table.ipynb>data table notebook</a>'\n",
              "            + ' to learn more about interactive tables.';\n",
              "          element.innerHTML = '';\n",
              "          dataTable['output_type'] = 'display_data';\n",
              "          await google.colab.output.renderOutput(dataTable, element);\n",
              "          const docLink = document.createElement('div');\n",
              "          docLink.innerHTML = docLinkHtml;\n",
              "          element.appendChild(docLink);\n",
              "        }\n",
              "      </script>\n",
              "    </div>\n",
              "  </div>\n",
              "  "
            ]
          },
          "metadata": {},
          "execution_count": 7
        }
      ]
    },
    {
      "cell_type": "markdown",
      "source": [
        "#### 🧹🪣 Retirando as linhas com os valores nulos "
      ],
      "metadata": {
        "id": "rFPPku3W27je"
      }
    },
    {
      "cell_type": "code",
      "source": [
        "model_df.isnull().sum()"
      ],
      "metadata": {
        "colab": {
          "base_uri": "https://localhost:8080/"
        },
        "id": "ehITsXvnrItp",
        "outputId": "ece6113d-7fb0-47f0-a395-874cdd43161e"
      },
      "execution_count": null,
      "outputs": [
        {
          "output_type": "execute_result",
          "data": {
            "text/plain": [
              "TP_ESCOLA               0\n",
              "TP_FAIXA_ETARIA         0\n",
              "TP_COR_RACA             0\n",
              "Q001                    2\n",
              "Q002                    2\n",
              "Q005                    2\n",
              "Q006                    2\n",
              "Q024                    2\n",
              "Q025                    2\n",
              "NU_NOTA_MT         343375\n",
              "dtype: int64"
            ]
          },
          "metadata": {},
          "execution_count": 8
        }
      ]
    },
    {
      "cell_type": "code",
      "source": [
        "model_df.dropna(inplace=True)"
      ],
      "metadata": {
        "id": "T4kZi2HmrcZ2"
      },
      "execution_count": null,
      "outputs": []
    },
    {
      "cell_type": "code",
      "source": [
        "model_df.head()"
      ],
      "metadata": {
        "colab": {
          "base_uri": "https://localhost:8080/",
          "height": 206
        },
        "id": "ZXi4W8d_sZRN",
        "outputId": "ffef793f-2805-4b50-9b4d-ce18e959ecf7"
      },
      "execution_count": null,
      "outputs": [
        {
          "output_type": "execute_result",
          "data": {
            "text/plain": [
              "   TP_ESCOLA  TP_FAIXA_ETARIA  TP_COR_RACA Q001 Q002  Q005 Q006 Q024 Q025  \\\n",
              "1          1               12            1    B    B   3.0    B    A    A   \n",
              "3          1               11            3    E    E   3.0    C    B    B   \n",
              "5          1                7            1    E    E   2.0    B    A    B   \n",
              "6          2                2            3    B    B   4.0    B    A    A   \n",
              "7          1               13            3    C    C   2.0    C    A    B   \n",
              "\n",
              "   NU_NOTA_MT  \n",
              "1       461.5  \n",
              "3       509.7  \n",
              "5       553.1  \n",
              "6       537.2  \n",
              "7       439.1  "
            ],
            "text/html": [
              "\n",
              "  <div id=\"df-2faf02ff-736c-4481-81f6-880a7699972a\">\n",
              "    <div class=\"colab-df-container\">\n",
              "      <div>\n",
              "<style scoped>\n",
              "    .dataframe tbody tr th:only-of-type {\n",
              "        vertical-align: middle;\n",
              "    }\n",
              "\n",
              "    .dataframe tbody tr th {\n",
              "        vertical-align: top;\n",
              "    }\n",
              "\n",
              "    .dataframe thead th {\n",
              "        text-align: right;\n",
              "    }\n",
              "</style>\n",
              "<table border=\"1\" class=\"dataframe\">\n",
              "  <thead>\n",
              "    <tr style=\"text-align: right;\">\n",
              "      <th></th>\n",
              "      <th>TP_ESCOLA</th>\n",
              "      <th>TP_FAIXA_ETARIA</th>\n",
              "      <th>TP_COR_RACA</th>\n",
              "      <th>Q001</th>\n",
              "      <th>Q002</th>\n",
              "      <th>Q005</th>\n",
              "      <th>Q006</th>\n",
              "      <th>Q024</th>\n",
              "      <th>Q025</th>\n",
              "      <th>NU_NOTA_MT</th>\n",
              "    </tr>\n",
              "  </thead>\n",
              "  <tbody>\n",
              "    <tr>\n",
              "      <th>1</th>\n",
              "      <td>1</td>\n",
              "      <td>12</td>\n",
              "      <td>1</td>\n",
              "      <td>B</td>\n",
              "      <td>B</td>\n",
              "      <td>3.0</td>\n",
              "      <td>B</td>\n",
              "      <td>A</td>\n",
              "      <td>A</td>\n",
              "      <td>461.5</td>\n",
              "    </tr>\n",
              "    <tr>\n",
              "      <th>3</th>\n",
              "      <td>1</td>\n",
              "      <td>11</td>\n",
              "      <td>3</td>\n",
              "      <td>E</td>\n",
              "      <td>E</td>\n",
              "      <td>3.0</td>\n",
              "      <td>C</td>\n",
              "      <td>B</td>\n",
              "      <td>B</td>\n",
              "      <td>509.7</td>\n",
              "    </tr>\n",
              "    <tr>\n",
              "      <th>5</th>\n",
              "      <td>1</td>\n",
              "      <td>7</td>\n",
              "      <td>1</td>\n",
              "      <td>E</td>\n",
              "      <td>E</td>\n",
              "      <td>2.0</td>\n",
              "      <td>B</td>\n",
              "      <td>A</td>\n",
              "      <td>B</td>\n",
              "      <td>553.1</td>\n",
              "    </tr>\n",
              "    <tr>\n",
              "      <th>6</th>\n",
              "      <td>2</td>\n",
              "      <td>2</td>\n",
              "      <td>3</td>\n",
              "      <td>B</td>\n",
              "      <td>B</td>\n",
              "      <td>4.0</td>\n",
              "      <td>B</td>\n",
              "      <td>A</td>\n",
              "      <td>A</td>\n",
              "      <td>537.2</td>\n",
              "    </tr>\n",
              "    <tr>\n",
              "      <th>7</th>\n",
              "      <td>1</td>\n",
              "      <td>13</td>\n",
              "      <td>3</td>\n",
              "      <td>C</td>\n",
              "      <td>C</td>\n",
              "      <td>2.0</td>\n",
              "      <td>C</td>\n",
              "      <td>A</td>\n",
              "      <td>B</td>\n",
              "      <td>439.1</td>\n",
              "    </tr>\n",
              "  </tbody>\n",
              "</table>\n",
              "</div>\n",
              "      <button class=\"colab-df-convert\" onclick=\"convertToInteractive('df-2faf02ff-736c-4481-81f6-880a7699972a')\"\n",
              "              title=\"Convert this dataframe to an interactive table.\"\n",
              "              style=\"display:none;\">\n",
              "        \n",
              "  <svg xmlns=\"http://www.w3.org/2000/svg\" height=\"24px\"viewBox=\"0 0 24 24\"\n",
              "       width=\"24px\">\n",
              "    <path d=\"M0 0h24v24H0V0z\" fill=\"none\"/>\n",
              "    <path d=\"M18.56 5.44l.94 2.06.94-2.06 2.06-.94-2.06-.94-.94-2.06-.94 2.06-2.06.94zm-11 1L8.5 8.5l.94-2.06 2.06-.94-2.06-.94L8.5 2.5l-.94 2.06-2.06.94zm10 10l.94 2.06.94-2.06 2.06-.94-2.06-.94-.94-2.06-.94 2.06-2.06.94z\"/><path d=\"M17.41 7.96l-1.37-1.37c-.4-.4-.92-.59-1.43-.59-.52 0-1.04.2-1.43.59L10.3 9.45l-7.72 7.72c-.78.78-.78 2.05 0 2.83L4 21.41c.39.39.9.59 1.41.59.51 0 1.02-.2 1.41-.59l7.78-7.78 2.81-2.81c.8-.78.8-2.07 0-2.86zM5.41 20L4 18.59l7.72-7.72 1.47 1.35L5.41 20z\"/>\n",
              "  </svg>\n",
              "      </button>\n",
              "      \n",
              "  <style>\n",
              "    .colab-df-container {\n",
              "      display:flex;\n",
              "      flex-wrap:wrap;\n",
              "      gap: 12px;\n",
              "    }\n",
              "\n",
              "    .colab-df-convert {\n",
              "      background-color: #E8F0FE;\n",
              "      border: none;\n",
              "      border-radius: 50%;\n",
              "      cursor: pointer;\n",
              "      display: none;\n",
              "      fill: #1967D2;\n",
              "      height: 32px;\n",
              "      padding: 0 0 0 0;\n",
              "      width: 32px;\n",
              "    }\n",
              "\n",
              "    .colab-df-convert:hover {\n",
              "      background-color: #E2EBFA;\n",
              "      box-shadow: 0px 1px 2px rgba(60, 64, 67, 0.3), 0px 1px 3px 1px rgba(60, 64, 67, 0.15);\n",
              "      fill: #174EA6;\n",
              "    }\n",
              "\n",
              "    [theme=dark] .colab-df-convert {\n",
              "      background-color: #3B4455;\n",
              "      fill: #D2E3FC;\n",
              "    }\n",
              "\n",
              "    [theme=dark] .colab-df-convert:hover {\n",
              "      background-color: #434B5C;\n",
              "      box-shadow: 0px 1px 3px 1px rgba(0, 0, 0, 0.15);\n",
              "      filter: drop-shadow(0px 1px 2px rgba(0, 0, 0, 0.3));\n",
              "      fill: #FFFFFF;\n",
              "    }\n",
              "  </style>\n",
              "\n",
              "      <script>\n",
              "        const buttonEl =\n",
              "          document.querySelector('#df-2faf02ff-736c-4481-81f6-880a7699972a button.colab-df-convert');\n",
              "        buttonEl.style.display =\n",
              "          google.colab.kernel.accessAllowed ? 'block' : 'none';\n",
              "\n",
              "        async function convertToInteractive(key) {\n",
              "          const element = document.querySelector('#df-2faf02ff-736c-4481-81f6-880a7699972a');\n",
              "          const dataTable =\n",
              "            await google.colab.kernel.invokeFunction('convertToInteractive',\n",
              "                                                     [key], {});\n",
              "          if (!dataTable) return;\n",
              "\n",
              "          const docLinkHtml = 'Like what you see? Visit the ' +\n",
              "            '<a target=\"_blank\" href=https://colab.research.google.com/notebooks/data_table.ipynb>data table notebook</a>'\n",
              "            + ' to learn more about interactive tables.';\n",
              "          element.innerHTML = '';\n",
              "          dataTable['output_type'] = 'display_data';\n",
              "          await google.colab.output.renderOutput(dataTable, element);\n",
              "          const docLink = document.createElement('div');\n",
              "          docLink.innerHTML = docLinkHtml;\n",
              "          element.appendChild(docLink);\n",
              "        }\n",
              "      </script>\n",
              "    </div>\n",
              "  </div>\n",
              "  "
            ]
          },
          "metadata": {},
          "execution_count": 10
        }
      ]
    },
    {
      "cell_type": "code",
      "source": [
        "model_df.info()"
      ],
      "metadata": {
        "colab": {
          "base_uri": "https://localhost:8080/"
        },
        "id": "R-Mny-NXWY2M",
        "outputId": "dd6b7856-19e1-49a9-9401-9733d9beb493"
      },
      "execution_count": null,
      "outputs": [
        {
          "output_type": "stream",
          "name": "stdout",
          "text": [
            "<class 'pandas.core.frame.DataFrame'>\n",
            "Int64Index: 673182 entries, 1 to 1016549\n",
            "Data columns (total 10 columns):\n",
            " #   Column           Non-Null Count   Dtype  \n",
            "---  ------           --------------   -----  \n",
            " 0   TP_ESCOLA        673182 non-null  int64  \n",
            " 1   TP_FAIXA_ETARIA  673182 non-null  int64  \n",
            " 2   TP_COR_RACA      673182 non-null  int64  \n",
            " 3   Q001             673182 non-null  object \n",
            " 4   Q002             673182 non-null  object \n",
            " 5   Q005             673182 non-null  float64\n",
            " 6   Q006             673182 non-null  object \n",
            " 7   Q024             673182 non-null  object \n",
            " 8   Q025             673182 non-null  object \n",
            " 9   NU_NOTA_MT       673182 non-null  float64\n",
            "dtypes: float64(2), int64(3), object(5)\n",
            "memory usage: 56.5+ MB\n"
          ]
        }
      ]
    },
    {
      "cell_type": "code",
      "source": [
        "model_df['TP_ESCOLA'].value_counts()"
      ],
      "metadata": {
        "colab": {
          "base_uri": "https://localhost:8080/"
        },
        "id": "3TTvPVSxVU8J",
        "outputId": "043036ae-6f3f-46c7-9356-145dca01d2b3"
      },
      "execution_count": null,
      "outputs": [
        {
          "output_type": "execute_result",
          "data": {
            "text/plain": [
              "1    417706\n",
              "2    201835\n",
              "3     53641\n",
              "Name: TP_ESCOLA, dtype: int64"
            ]
          },
          "metadata": {},
          "execution_count": 12
        }
      ]
    },
    {
      "cell_type": "code",
      "source": [
        "remove = model_df.loc[model_df['TP_ESCOLA'] == 1]\n",
        "model_df = model_df.drop(remove.index)\n",
        "model_df.head()"
      ],
      "metadata": {
        "colab": {
          "base_uri": "https://localhost:8080/",
          "height": 206
        },
        "id": "7DuMMVi992-E",
        "outputId": "75fbdb55-a759-4eba-bda9-62285c2f6810"
      },
      "execution_count": null,
      "outputs": [
        {
          "output_type": "execute_result",
          "data": {
            "text/plain": [
              "    TP_ESCOLA  TP_FAIXA_ETARIA  TP_COR_RACA Q001 Q002  Q005 Q006 Q024 Q025  \\\n",
              "6           2                2            3    B    B   4.0    B    A    A   \n",
              "10          2                3            3    C    C   4.0    F    A    B   \n",
              "11          2                3            1    C    C   6.0    B    B    B   \n",
              "18          2                1            1    E    F   5.0    H    A    B   \n",
              "20          2                4            3    H    E   4.0    C    A    B   \n",
              "\n",
              "    NU_NOTA_MT  \n",
              "6        537.2  \n",
              "10       427.0  \n",
              "11       423.0  \n",
              "18       586.8  \n",
              "20       570.2  "
            ],
            "text/html": [
              "\n",
              "  <div id=\"df-593e276d-bed5-4236-a844-6ccc0d51d5be\">\n",
              "    <div class=\"colab-df-container\">\n",
              "      <div>\n",
              "<style scoped>\n",
              "    .dataframe tbody tr th:only-of-type {\n",
              "        vertical-align: middle;\n",
              "    }\n",
              "\n",
              "    .dataframe tbody tr th {\n",
              "        vertical-align: top;\n",
              "    }\n",
              "\n",
              "    .dataframe thead th {\n",
              "        text-align: right;\n",
              "    }\n",
              "</style>\n",
              "<table border=\"1\" class=\"dataframe\">\n",
              "  <thead>\n",
              "    <tr style=\"text-align: right;\">\n",
              "      <th></th>\n",
              "      <th>TP_ESCOLA</th>\n",
              "      <th>TP_FAIXA_ETARIA</th>\n",
              "      <th>TP_COR_RACA</th>\n",
              "      <th>Q001</th>\n",
              "      <th>Q002</th>\n",
              "      <th>Q005</th>\n",
              "      <th>Q006</th>\n",
              "      <th>Q024</th>\n",
              "      <th>Q025</th>\n",
              "      <th>NU_NOTA_MT</th>\n",
              "    </tr>\n",
              "  </thead>\n",
              "  <tbody>\n",
              "    <tr>\n",
              "      <th>6</th>\n",
              "      <td>2</td>\n",
              "      <td>2</td>\n",
              "      <td>3</td>\n",
              "      <td>B</td>\n",
              "      <td>B</td>\n",
              "      <td>4.0</td>\n",
              "      <td>B</td>\n",
              "      <td>A</td>\n",
              "      <td>A</td>\n",
              "      <td>537.2</td>\n",
              "    </tr>\n",
              "    <tr>\n",
              "      <th>10</th>\n",
              "      <td>2</td>\n",
              "      <td>3</td>\n",
              "      <td>3</td>\n",
              "      <td>C</td>\n",
              "      <td>C</td>\n",
              "      <td>4.0</td>\n",
              "      <td>F</td>\n",
              "      <td>A</td>\n",
              "      <td>B</td>\n",
              "      <td>427.0</td>\n",
              "    </tr>\n",
              "    <tr>\n",
              "      <th>11</th>\n",
              "      <td>2</td>\n",
              "      <td>3</td>\n",
              "      <td>1</td>\n",
              "      <td>C</td>\n",
              "      <td>C</td>\n",
              "      <td>6.0</td>\n",
              "      <td>B</td>\n",
              "      <td>B</td>\n",
              "      <td>B</td>\n",
              "      <td>423.0</td>\n",
              "    </tr>\n",
              "    <tr>\n",
              "      <th>18</th>\n",
              "      <td>2</td>\n",
              "      <td>1</td>\n",
              "      <td>1</td>\n",
              "      <td>E</td>\n",
              "      <td>F</td>\n",
              "      <td>5.0</td>\n",
              "      <td>H</td>\n",
              "      <td>A</td>\n",
              "      <td>B</td>\n",
              "      <td>586.8</td>\n",
              "    </tr>\n",
              "    <tr>\n",
              "      <th>20</th>\n",
              "      <td>2</td>\n",
              "      <td>4</td>\n",
              "      <td>3</td>\n",
              "      <td>H</td>\n",
              "      <td>E</td>\n",
              "      <td>4.0</td>\n",
              "      <td>C</td>\n",
              "      <td>A</td>\n",
              "      <td>B</td>\n",
              "      <td>570.2</td>\n",
              "    </tr>\n",
              "  </tbody>\n",
              "</table>\n",
              "</div>\n",
              "      <button class=\"colab-df-convert\" onclick=\"convertToInteractive('df-593e276d-bed5-4236-a844-6ccc0d51d5be')\"\n",
              "              title=\"Convert this dataframe to an interactive table.\"\n",
              "              style=\"display:none;\">\n",
              "        \n",
              "  <svg xmlns=\"http://www.w3.org/2000/svg\" height=\"24px\"viewBox=\"0 0 24 24\"\n",
              "       width=\"24px\">\n",
              "    <path d=\"M0 0h24v24H0V0z\" fill=\"none\"/>\n",
              "    <path d=\"M18.56 5.44l.94 2.06.94-2.06 2.06-.94-2.06-.94-.94-2.06-.94 2.06-2.06.94zm-11 1L8.5 8.5l.94-2.06 2.06-.94-2.06-.94L8.5 2.5l-.94 2.06-2.06.94zm10 10l.94 2.06.94-2.06 2.06-.94-2.06-.94-.94-2.06-.94 2.06-2.06.94z\"/><path d=\"M17.41 7.96l-1.37-1.37c-.4-.4-.92-.59-1.43-.59-.52 0-1.04.2-1.43.59L10.3 9.45l-7.72 7.72c-.78.78-.78 2.05 0 2.83L4 21.41c.39.39.9.59 1.41.59.51 0 1.02-.2 1.41-.59l7.78-7.78 2.81-2.81c.8-.78.8-2.07 0-2.86zM5.41 20L4 18.59l7.72-7.72 1.47 1.35L5.41 20z\"/>\n",
              "  </svg>\n",
              "      </button>\n",
              "      \n",
              "  <style>\n",
              "    .colab-df-container {\n",
              "      display:flex;\n",
              "      flex-wrap:wrap;\n",
              "      gap: 12px;\n",
              "    }\n",
              "\n",
              "    .colab-df-convert {\n",
              "      background-color: #E8F0FE;\n",
              "      border: none;\n",
              "      border-radius: 50%;\n",
              "      cursor: pointer;\n",
              "      display: none;\n",
              "      fill: #1967D2;\n",
              "      height: 32px;\n",
              "      padding: 0 0 0 0;\n",
              "      width: 32px;\n",
              "    }\n",
              "\n",
              "    .colab-df-convert:hover {\n",
              "      background-color: #E2EBFA;\n",
              "      box-shadow: 0px 1px 2px rgba(60, 64, 67, 0.3), 0px 1px 3px 1px rgba(60, 64, 67, 0.15);\n",
              "      fill: #174EA6;\n",
              "    }\n",
              "\n",
              "    [theme=dark] .colab-df-convert {\n",
              "      background-color: #3B4455;\n",
              "      fill: #D2E3FC;\n",
              "    }\n",
              "\n",
              "    [theme=dark] .colab-df-convert:hover {\n",
              "      background-color: #434B5C;\n",
              "      box-shadow: 0px 1px 3px 1px rgba(0, 0, 0, 0.15);\n",
              "      filter: drop-shadow(0px 1px 2px rgba(0, 0, 0, 0.3));\n",
              "      fill: #FFFFFF;\n",
              "    }\n",
              "  </style>\n",
              "\n",
              "      <script>\n",
              "        const buttonEl =\n",
              "          document.querySelector('#df-593e276d-bed5-4236-a844-6ccc0d51d5be button.colab-df-convert');\n",
              "        buttonEl.style.display =\n",
              "          google.colab.kernel.accessAllowed ? 'block' : 'none';\n",
              "\n",
              "        async function convertToInteractive(key) {\n",
              "          const element = document.querySelector('#df-593e276d-bed5-4236-a844-6ccc0d51d5be');\n",
              "          const dataTable =\n",
              "            await google.colab.kernel.invokeFunction('convertToInteractive',\n",
              "                                                     [key], {});\n",
              "          if (!dataTable) return;\n",
              "\n",
              "          const docLinkHtml = 'Like what you see? Visit the ' +\n",
              "            '<a target=\"_blank\" href=https://colab.research.google.com/notebooks/data_table.ipynb>data table notebook</a>'\n",
              "            + ' to learn more about interactive tables.';\n",
              "          element.innerHTML = '';\n",
              "          dataTable['output_type'] = 'display_data';\n",
              "          await google.colab.output.renderOutput(dataTable, element);\n",
              "          const docLink = document.createElement('div');\n",
              "          docLink.innerHTML = docLinkHtml;\n",
              "          element.appendChild(docLink);\n",
              "        }\n",
              "      </script>\n",
              "    </div>\n",
              "  </div>\n",
              "  "
            ]
          },
          "metadata": {},
          "execution_count": 13
        }
      ]
    },
    {
      "cell_type": "markdown",
      "source": [
        "#### ➕ Calculando o percentil 85, já que os candidatos que estiverem no top 15% tiraram uma nota maior do que esse valor "
      ],
      "metadata": {
        "id": "bELUdDS03MHP"
      }
    },
    {
      "cell_type": "code",
      "source": [
        "percentil = np.percentile(model_df['NU_NOTA_MT'], 85)\n",
        "percentil"
      ],
      "metadata": {
        "colab": {
          "base_uri": "https://localhost:8080/"
        },
        "id": "Snw7nyBYe1XW",
        "outputId": "48e1146b-4444-4864-830e-940d8089c955"
      },
      "execution_count": null,
      "outputs": [
        {
          "output_type": "execute_result",
          "data": {
            "text/plain": [
              "653.0"
            ]
          },
          "metadata": {},
          "execution_count": 14
        }
      ]
    },
    {
      "cell_type": "markdown",
      "source": [
        "#### 🎯 Criando uma coluna para o nosso valor target"
      ],
      "metadata": {
        "id": "HWe4OhPMib8T"
      }
    },
    {
      "cell_type": "code",
      "source": [
        "model_df['target'] = model_df['NU_NOTA_MT'].apply(lambda x: x > percentil) \n",
        "model_df.head()"
      ],
      "metadata": {
        "id": "-ZlMPljax0tz",
        "colab": {
          "base_uri": "https://localhost:8080/",
          "height": 206
        },
        "outputId": "2eca7821-3846-49bd-f630-66521d5219e5"
      },
      "execution_count": null,
      "outputs": [
        {
          "output_type": "execute_result",
          "data": {
            "text/plain": [
              "    TP_ESCOLA  TP_FAIXA_ETARIA  TP_COR_RACA Q001 Q002  Q005 Q006 Q024 Q025  \\\n",
              "6           2                2            3    B    B   4.0    B    A    A   \n",
              "10          2                3            3    C    C   4.0    F    A    B   \n",
              "11          2                3            1    C    C   6.0    B    B    B   \n",
              "18          2                1            1    E    F   5.0    H    A    B   \n",
              "20          2                4            3    H    E   4.0    C    A    B   \n",
              "\n",
              "    NU_NOTA_MT  target  \n",
              "6        537.2   False  \n",
              "10       427.0   False  \n",
              "11       423.0   False  \n",
              "18       586.8   False  \n",
              "20       570.2   False  "
            ],
            "text/html": [
              "\n",
              "  <div id=\"df-ae7cef9f-51e4-4444-b4e2-e714723edda0\">\n",
              "    <div class=\"colab-df-container\">\n",
              "      <div>\n",
              "<style scoped>\n",
              "    .dataframe tbody tr th:only-of-type {\n",
              "        vertical-align: middle;\n",
              "    }\n",
              "\n",
              "    .dataframe tbody tr th {\n",
              "        vertical-align: top;\n",
              "    }\n",
              "\n",
              "    .dataframe thead th {\n",
              "        text-align: right;\n",
              "    }\n",
              "</style>\n",
              "<table border=\"1\" class=\"dataframe\">\n",
              "  <thead>\n",
              "    <tr style=\"text-align: right;\">\n",
              "      <th></th>\n",
              "      <th>TP_ESCOLA</th>\n",
              "      <th>TP_FAIXA_ETARIA</th>\n",
              "      <th>TP_COR_RACA</th>\n",
              "      <th>Q001</th>\n",
              "      <th>Q002</th>\n",
              "      <th>Q005</th>\n",
              "      <th>Q006</th>\n",
              "      <th>Q024</th>\n",
              "      <th>Q025</th>\n",
              "      <th>NU_NOTA_MT</th>\n",
              "      <th>target</th>\n",
              "    </tr>\n",
              "  </thead>\n",
              "  <tbody>\n",
              "    <tr>\n",
              "      <th>6</th>\n",
              "      <td>2</td>\n",
              "      <td>2</td>\n",
              "      <td>3</td>\n",
              "      <td>B</td>\n",
              "      <td>B</td>\n",
              "      <td>4.0</td>\n",
              "      <td>B</td>\n",
              "      <td>A</td>\n",
              "      <td>A</td>\n",
              "      <td>537.2</td>\n",
              "      <td>False</td>\n",
              "    </tr>\n",
              "    <tr>\n",
              "      <th>10</th>\n",
              "      <td>2</td>\n",
              "      <td>3</td>\n",
              "      <td>3</td>\n",
              "      <td>C</td>\n",
              "      <td>C</td>\n",
              "      <td>4.0</td>\n",
              "      <td>F</td>\n",
              "      <td>A</td>\n",
              "      <td>B</td>\n",
              "      <td>427.0</td>\n",
              "      <td>False</td>\n",
              "    </tr>\n",
              "    <tr>\n",
              "      <th>11</th>\n",
              "      <td>2</td>\n",
              "      <td>3</td>\n",
              "      <td>1</td>\n",
              "      <td>C</td>\n",
              "      <td>C</td>\n",
              "      <td>6.0</td>\n",
              "      <td>B</td>\n",
              "      <td>B</td>\n",
              "      <td>B</td>\n",
              "      <td>423.0</td>\n",
              "      <td>False</td>\n",
              "    </tr>\n",
              "    <tr>\n",
              "      <th>18</th>\n",
              "      <td>2</td>\n",
              "      <td>1</td>\n",
              "      <td>1</td>\n",
              "      <td>E</td>\n",
              "      <td>F</td>\n",
              "      <td>5.0</td>\n",
              "      <td>H</td>\n",
              "      <td>A</td>\n",
              "      <td>B</td>\n",
              "      <td>586.8</td>\n",
              "      <td>False</td>\n",
              "    </tr>\n",
              "    <tr>\n",
              "      <th>20</th>\n",
              "      <td>2</td>\n",
              "      <td>4</td>\n",
              "      <td>3</td>\n",
              "      <td>H</td>\n",
              "      <td>E</td>\n",
              "      <td>4.0</td>\n",
              "      <td>C</td>\n",
              "      <td>A</td>\n",
              "      <td>B</td>\n",
              "      <td>570.2</td>\n",
              "      <td>False</td>\n",
              "    </tr>\n",
              "  </tbody>\n",
              "</table>\n",
              "</div>\n",
              "      <button class=\"colab-df-convert\" onclick=\"convertToInteractive('df-ae7cef9f-51e4-4444-b4e2-e714723edda0')\"\n",
              "              title=\"Convert this dataframe to an interactive table.\"\n",
              "              style=\"display:none;\">\n",
              "        \n",
              "  <svg xmlns=\"http://www.w3.org/2000/svg\" height=\"24px\"viewBox=\"0 0 24 24\"\n",
              "       width=\"24px\">\n",
              "    <path d=\"M0 0h24v24H0V0z\" fill=\"none\"/>\n",
              "    <path d=\"M18.56 5.44l.94 2.06.94-2.06 2.06-.94-2.06-.94-.94-2.06-.94 2.06-2.06.94zm-11 1L8.5 8.5l.94-2.06 2.06-.94-2.06-.94L8.5 2.5l-.94 2.06-2.06.94zm10 10l.94 2.06.94-2.06 2.06-.94-2.06-.94-.94-2.06-.94 2.06-2.06.94z\"/><path d=\"M17.41 7.96l-1.37-1.37c-.4-.4-.92-.59-1.43-.59-.52 0-1.04.2-1.43.59L10.3 9.45l-7.72 7.72c-.78.78-.78 2.05 0 2.83L4 21.41c.39.39.9.59 1.41.59.51 0 1.02-.2 1.41-.59l7.78-7.78 2.81-2.81c.8-.78.8-2.07 0-2.86zM5.41 20L4 18.59l7.72-7.72 1.47 1.35L5.41 20z\"/>\n",
              "  </svg>\n",
              "      </button>\n",
              "      \n",
              "  <style>\n",
              "    .colab-df-container {\n",
              "      display:flex;\n",
              "      flex-wrap:wrap;\n",
              "      gap: 12px;\n",
              "    }\n",
              "\n",
              "    .colab-df-convert {\n",
              "      background-color: #E8F0FE;\n",
              "      border: none;\n",
              "      border-radius: 50%;\n",
              "      cursor: pointer;\n",
              "      display: none;\n",
              "      fill: #1967D2;\n",
              "      height: 32px;\n",
              "      padding: 0 0 0 0;\n",
              "      width: 32px;\n",
              "    }\n",
              "\n",
              "    .colab-df-convert:hover {\n",
              "      background-color: #E2EBFA;\n",
              "      box-shadow: 0px 1px 2px rgba(60, 64, 67, 0.3), 0px 1px 3px 1px rgba(60, 64, 67, 0.15);\n",
              "      fill: #174EA6;\n",
              "    }\n",
              "\n",
              "    [theme=dark] .colab-df-convert {\n",
              "      background-color: #3B4455;\n",
              "      fill: #D2E3FC;\n",
              "    }\n",
              "\n",
              "    [theme=dark] .colab-df-convert:hover {\n",
              "      background-color: #434B5C;\n",
              "      box-shadow: 0px 1px 3px 1px rgba(0, 0, 0, 0.15);\n",
              "      filter: drop-shadow(0px 1px 2px rgba(0, 0, 0, 0.3));\n",
              "      fill: #FFFFFF;\n",
              "    }\n",
              "  </style>\n",
              "\n",
              "      <script>\n",
              "        const buttonEl =\n",
              "          document.querySelector('#df-ae7cef9f-51e4-4444-b4e2-e714723edda0 button.colab-df-convert');\n",
              "        buttonEl.style.display =\n",
              "          google.colab.kernel.accessAllowed ? 'block' : 'none';\n",
              "\n",
              "        async function convertToInteractive(key) {\n",
              "          const element = document.querySelector('#df-ae7cef9f-51e4-4444-b4e2-e714723edda0');\n",
              "          const dataTable =\n",
              "            await google.colab.kernel.invokeFunction('convertToInteractive',\n",
              "                                                     [key], {});\n",
              "          if (!dataTable) return;\n",
              "\n",
              "          const docLinkHtml = 'Like what you see? Visit the ' +\n",
              "            '<a target=\"_blank\" href=https://colab.research.google.com/notebooks/data_table.ipynb>data table notebook</a>'\n",
              "            + ' to learn more about interactive tables.';\n",
              "          element.innerHTML = '';\n",
              "          dataTable['output_type'] = 'display_data';\n",
              "          await google.colab.output.renderOutput(dataTable, element);\n",
              "          const docLink = document.createElement('div');\n",
              "          docLink.innerHTML = docLinkHtml;\n",
              "          element.appendChild(docLink);\n",
              "        }\n",
              "      </script>\n",
              "    </div>\n",
              "  </div>\n",
              "  "
            ]
          },
          "metadata": {},
          "execution_count": 15
        }
      ]
    },
    {
      "cell_type": "code",
      "source": [
        "model_df.head()"
      ],
      "metadata": {
        "colab": {
          "base_uri": "https://localhost:8080/",
          "height": 206
        },
        "id": "MWHxZMEmv3mz",
        "outputId": "aacda084-afbf-4448-cef0-d0bee00e72e6"
      },
      "execution_count": null,
      "outputs": [
        {
          "output_type": "execute_result",
          "data": {
            "text/plain": [
              "    TP_ESCOLA  TP_FAIXA_ETARIA  TP_COR_RACA Q001 Q002  Q005 Q006 Q024 Q025  \\\n",
              "6           2                2            3    B    B   4.0    B    A    A   \n",
              "10          2                3            3    C    C   4.0    F    A    B   \n",
              "11          2                3            1    C    C   6.0    B    B    B   \n",
              "18          2                1            1    E    F   5.0    H    A    B   \n",
              "20          2                4            3    H    E   4.0    C    A    B   \n",
              "\n",
              "    NU_NOTA_MT  target  \n",
              "6        537.2   False  \n",
              "10       427.0   False  \n",
              "11       423.0   False  \n",
              "18       586.8   False  \n",
              "20       570.2   False  "
            ],
            "text/html": [
              "\n",
              "  <div id=\"df-0385b0ef-9a4d-47ae-8686-57609c88e8e8\">\n",
              "    <div class=\"colab-df-container\">\n",
              "      <div>\n",
              "<style scoped>\n",
              "    .dataframe tbody tr th:only-of-type {\n",
              "        vertical-align: middle;\n",
              "    }\n",
              "\n",
              "    .dataframe tbody tr th {\n",
              "        vertical-align: top;\n",
              "    }\n",
              "\n",
              "    .dataframe thead th {\n",
              "        text-align: right;\n",
              "    }\n",
              "</style>\n",
              "<table border=\"1\" class=\"dataframe\">\n",
              "  <thead>\n",
              "    <tr style=\"text-align: right;\">\n",
              "      <th></th>\n",
              "      <th>TP_ESCOLA</th>\n",
              "      <th>TP_FAIXA_ETARIA</th>\n",
              "      <th>TP_COR_RACA</th>\n",
              "      <th>Q001</th>\n",
              "      <th>Q002</th>\n",
              "      <th>Q005</th>\n",
              "      <th>Q006</th>\n",
              "      <th>Q024</th>\n",
              "      <th>Q025</th>\n",
              "      <th>NU_NOTA_MT</th>\n",
              "      <th>target</th>\n",
              "    </tr>\n",
              "  </thead>\n",
              "  <tbody>\n",
              "    <tr>\n",
              "      <th>6</th>\n",
              "      <td>2</td>\n",
              "      <td>2</td>\n",
              "      <td>3</td>\n",
              "      <td>B</td>\n",
              "      <td>B</td>\n",
              "      <td>4.0</td>\n",
              "      <td>B</td>\n",
              "      <td>A</td>\n",
              "      <td>A</td>\n",
              "      <td>537.2</td>\n",
              "      <td>False</td>\n",
              "    </tr>\n",
              "    <tr>\n",
              "      <th>10</th>\n",
              "      <td>2</td>\n",
              "      <td>3</td>\n",
              "      <td>3</td>\n",
              "      <td>C</td>\n",
              "      <td>C</td>\n",
              "      <td>4.0</td>\n",
              "      <td>F</td>\n",
              "      <td>A</td>\n",
              "      <td>B</td>\n",
              "      <td>427.0</td>\n",
              "      <td>False</td>\n",
              "    </tr>\n",
              "    <tr>\n",
              "      <th>11</th>\n",
              "      <td>2</td>\n",
              "      <td>3</td>\n",
              "      <td>1</td>\n",
              "      <td>C</td>\n",
              "      <td>C</td>\n",
              "      <td>6.0</td>\n",
              "      <td>B</td>\n",
              "      <td>B</td>\n",
              "      <td>B</td>\n",
              "      <td>423.0</td>\n",
              "      <td>False</td>\n",
              "    </tr>\n",
              "    <tr>\n",
              "      <th>18</th>\n",
              "      <td>2</td>\n",
              "      <td>1</td>\n",
              "      <td>1</td>\n",
              "      <td>E</td>\n",
              "      <td>F</td>\n",
              "      <td>5.0</td>\n",
              "      <td>H</td>\n",
              "      <td>A</td>\n",
              "      <td>B</td>\n",
              "      <td>586.8</td>\n",
              "      <td>False</td>\n",
              "    </tr>\n",
              "    <tr>\n",
              "      <th>20</th>\n",
              "      <td>2</td>\n",
              "      <td>4</td>\n",
              "      <td>3</td>\n",
              "      <td>H</td>\n",
              "      <td>E</td>\n",
              "      <td>4.0</td>\n",
              "      <td>C</td>\n",
              "      <td>A</td>\n",
              "      <td>B</td>\n",
              "      <td>570.2</td>\n",
              "      <td>False</td>\n",
              "    </tr>\n",
              "  </tbody>\n",
              "</table>\n",
              "</div>\n",
              "      <button class=\"colab-df-convert\" onclick=\"convertToInteractive('df-0385b0ef-9a4d-47ae-8686-57609c88e8e8')\"\n",
              "              title=\"Convert this dataframe to an interactive table.\"\n",
              "              style=\"display:none;\">\n",
              "        \n",
              "  <svg xmlns=\"http://www.w3.org/2000/svg\" height=\"24px\"viewBox=\"0 0 24 24\"\n",
              "       width=\"24px\">\n",
              "    <path d=\"M0 0h24v24H0V0z\" fill=\"none\"/>\n",
              "    <path d=\"M18.56 5.44l.94 2.06.94-2.06 2.06-.94-2.06-.94-.94-2.06-.94 2.06-2.06.94zm-11 1L8.5 8.5l.94-2.06 2.06-.94-2.06-.94L8.5 2.5l-.94 2.06-2.06.94zm10 10l.94 2.06.94-2.06 2.06-.94-2.06-.94-.94-2.06-.94 2.06-2.06.94z\"/><path d=\"M17.41 7.96l-1.37-1.37c-.4-.4-.92-.59-1.43-.59-.52 0-1.04.2-1.43.59L10.3 9.45l-7.72 7.72c-.78.78-.78 2.05 0 2.83L4 21.41c.39.39.9.59 1.41.59.51 0 1.02-.2 1.41-.59l7.78-7.78 2.81-2.81c.8-.78.8-2.07 0-2.86zM5.41 20L4 18.59l7.72-7.72 1.47 1.35L5.41 20z\"/>\n",
              "  </svg>\n",
              "      </button>\n",
              "      \n",
              "  <style>\n",
              "    .colab-df-container {\n",
              "      display:flex;\n",
              "      flex-wrap:wrap;\n",
              "      gap: 12px;\n",
              "    }\n",
              "\n",
              "    .colab-df-convert {\n",
              "      background-color: #E8F0FE;\n",
              "      border: none;\n",
              "      border-radius: 50%;\n",
              "      cursor: pointer;\n",
              "      display: none;\n",
              "      fill: #1967D2;\n",
              "      height: 32px;\n",
              "      padding: 0 0 0 0;\n",
              "      width: 32px;\n",
              "    }\n",
              "\n",
              "    .colab-df-convert:hover {\n",
              "      background-color: #E2EBFA;\n",
              "      box-shadow: 0px 1px 2px rgba(60, 64, 67, 0.3), 0px 1px 3px 1px rgba(60, 64, 67, 0.15);\n",
              "      fill: #174EA6;\n",
              "    }\n",
              "\n",
              "    [theme=dark] .colab-df-convert {\n",
              "      background-color: #3B4455;\n",
              "      fill: #D2E3FC;\n",
              "    }\n",
              "\n",
              "    [theme=dark] .colab-df-convert:hover {\n",
              "      background-color: #434B5C;\n",
              "      box-shadow: 0px 1px 3px 1px rgba(0, 0, 0, 0.15);\n",
              "      filter: drop-shadow(0px 1px 2px rgba(0, 0, 0, 0.3));\n",
              "      fill: #FFFFFF;\n",
              "    }\n",
              "  </style>\n",
              "\n",
              "      <script>\n",
              "        const buttonEl =\n",
              "          document.querySelector('#df-0385b0ef-9a4d-47ae-8686-57609c88e8e8 button.colab-df-convert');\n",
              "        buttonEl.style.display =\n",
              "          google.colab.kernel.accessAllowed ? 'block' : 'none';\n",
              "\n",
              "        async function convertToInteractive(key) {\n",
              "          const element = document.querySelector('#df-0385b0ef-9a4d-47ae-8686-57609c88e8e8');\n",
              "          const dataTable =\n",
              "            await google.colab.kernel.invokeFunction('convertToInteractive',\n",
              "                                                     [key], {});\n",
              "          if (!dataTable) return;\n",
              "\n",
              "          const docLinkHtml = 'Like what you see? Visit the ' +\n",
              "            '<a target=\"_blank\" href=https://colab.research.google.com/notebooks/data_table.ipynb>data table notebook</a>'\n",
              "            + ' to learn more about interactive tables.';\n",
              "          element.innerHTML = '';\n",
              "          dataTable['output_type'] = 'display_data';\n",
              "          await google.colab.output.renderOutput(dataTable, element);\n",
              "          const docLink = document.createElement('div');\n",
              "          docLink.innerHTML = docLinkHtml;\n",
              "          element.appendChild(docLink);\n",
              "        }\n",
              "      </script>\n",
              "    </div>\n",
              "  </div>\n",
              "  "
            ]
          },
          "metadata": {},
          "execution_count": 16
        }
      ]
    },
    {
      "cell_type": "markdown",
      "source": [
        "#### ✏️ Renomeando o nome das colunas: "
      ],
      "metadata": {
        "id": "PXru1UtmitlA"
      }
    },
    {
      "cell_type": "code",
      "source": [
        "model_df.rename(columns={'TP_ESCOLA': 'tipo escola', 'TP_FAIXA_ETARIA': 'faixa etaria', 'TP_COR_RACA': 'cor ou raça'}, inplace = True)"
      ],
      "metadata": {
        "id": "boTnZXCaydxj"
      },
      "execution_count": null,
      "outputs": []
    },
    {
      "cell_type": "code",
      "source": [
        "model_df.rename(columns={'Q001': 'escolaridade pai', 'Q002': 'escolaridade mãe', 'Q005': 'qtd moradores', 'Q006': 'renda mensal', 'Q024': 'qtd computadores', 'Q025': 'acesso internet'}, inplace = True)"
      ],
      "metadata": {
        "id": "8jTNqpxtfpyc"
      },
      "execution_count": null,
      "outputs": []
    },
    {
      "cell_type": "code",
      "source": [
        "model_df.rename(columns={'NU_NOTA_MT': 'nota matematica', 'target': 'top 15%?'}, inplace = True)"
      ],
      "metadata": {
        "id": "GnLrIHlOfod5"
      },
      "execution_count": null,
      "outputs": []
    },
    {
      "cell_type": "code",
      "source": [
        "model_df.head()"
      ],
      "metadata": {
        "colab": {
          "base_uri": "https://localhost:8080/",
          "height": 268
        },
        "id": "OgxlfixDhAQd",
        "outputId": "06669293-a9b3-4d5f-a12a-bd1cc7c0e59c"
      },
      "execution_count": null,
      "outputs": [
        {
          "output_type": "execute_result",
          "data": {
            "text/plain": [
              "    tipo escola  faixa etaria  cor ou raça escolaridade pai escolaridade mãe  \\\n",
              "6             2             2            3                B                B   \n",
              "10            2             3            3                C                C   \n",
              "11            2             3            1                C                C   \n",
              "18            2             1            1                E                F   \n",
              "20            2             4            3                H                E   \n",
              "\n",
              "    qtd moradores renda mensal qtd computadores acesso internet  \\\n",
              "6             4.0            B                A               A   \n",
              "10            4.0            F                A               B   \n",
              "11            6.0            B                B               B   \n",
              "18            5.0            H                A               B   \n",
              "20            4.0            C                A               B   \n",
              "\n",
              "    nota matematica  top 15%?  \n",
              "6             537.2     False  \n",
              "10            427.0     False  \n",
              "11            423.0     False  \n",
              "18            586.8     False  \n",
              "20            570.2     False  "
            ],
            "text/html": [
              "\n",
              "  <div id=\"df-da51f9f4-97a4-49e9-a5ee-c5f801d66fcd\">\n",
              "    <div class=\"colab-df-container\">\n",
              "      <div>\n",
              "<style scoped>\n",
              "    .dataframe tbody tr th:only-of-type {\n",
              "        vertical-align: middle;\n",
              "    }\n",
              "\n",
              "    .dataframe tbody tr th {\n",
              "        vertical-align: top;\n",
              "    }\n",
              "\n",
              "    .dataframe thead th {\n",
              "        text-align: right;\n",
              "    }\n",
              "</style>\n",
              "<table border=\"1\" class=\"dataframe\">\n",
              "  <thead>\n",
              "    <tr style=\"text-align: right;\">\n",
              "      <th></th>\n",
              "      <th>tipo escola</th>\n",
              "      <th>faixa etaria</th>\n",
              "      <th>cor ou raça</th>\n",
              "      <th>escolaridade pai</th>\n",
              "      <th>escolaridade mãe</th>\n",
              "      <th>qtd moradores</th>\n",
              "      <th>renda mensal</th>\n",
              "      <th>qtd computadores</th>\n",
              "      <th>acesso internet</th>\n",
              "      <th>nota matematica</th>\n",
              "      <th>top 15%?</th>\n",
              "    </tr>\n",
              "  </thead>\n",
              "  <tbody>\n",
              "    <tr>\n",
              "      <th>6</th>\n",
              "      <td>2</td>\n",
              "      <td>2</td>\n",
              "      <td>3</td>\n",
              "      <td>B</td>\n",
              "      <td>B</td>\n",
              "      <td>4.0</td>\n",
              "      <td>B</td>\n",
              "      <td>A</td>\n",
              "      <td>A</td>\n",
              "      <td>537.2</td>\n",
              "      <td>False</td>\n",
              "    </tr>\n",
              "    <tr>\n",
              "      <th>10</th>\n",
              "      <td>2</td>\n",
              "      <td>3</td>\n",
              "      <td>3</td>\n",
              "      <td>C</td>\n",
              "      <td>C</td>\n",
              "      <td>4.0</td>\n",
              "      <td>F</td>\n",
              "      <td>A</td>\n",
              "      <td>B</td>\n",
              "      <td>427.0</td>\n",
              "      <td>False</td>\n",
              "    </tr>\n",
              "    <tr>\n",
              "      <th>11</th>\n",
              "      <td>2</td>\n",
              "      <td>3</td>\n",
              "      <td>1</td>\n",
              "      <td>C</td>\n",
              "      <td>C</td>\n",
              "      <td>6.0</td>\n",
              "      <td>B</td>\n",
              "      <td>B</td>\n",
              "      <td>B</td>\n",
              "      <td>423.0</td>\n",
              "      <td>False</td>\n",
              "    </tr>\n",
              "    <tr>\n",
              "      <th>18</th>\n",
              "      <td>2</td>\n",
              "      <td>1</td>\n",
              "      <td>1</td>\n",
              "      <td>E</td>\n",
              "      <td>F</td>\n",
              "      <td>5.0</td>\n",
              "      <td>H</td>\n",
              "      <td>A</td>\n",
              "      <td>B</td>\n",
              "      <td>586.8</td>\n",
              "      <td>False</td>\n",
              "    </tr>\n",
              "    <tr>\n",
              "      <th>20</th>\n",
              "      <td>2</td>\n",
              "      <td>4</td>\n",
              "      <td>3</td>\n",
              "      <td>H</td>\n",
              "      <td>E</td>\n",
              "      <td>4.0</td>\n",
              "      <td>C</td>\n",
              "      <td>A</td>\n",
              "      <td>B</td>\n",
              "      <td>570.2</td>\n",
              "      <td>False</td>\n",
              "    </tr>\n",
              "  </tbody>\n",
              "</table>\n",
              "</div>\n",
              "      <button class=\"colab-df-convert\" onclick=\"convertToInteractive('df-da51f9f4-97a4-49e9-a5ee-c5f801d66fcd')\"\n",
              "              title=\"Convert this dataframe to an interactive table.\"\n",
              "              style=\"display:none;\">\n",
              "        \n",
              "  <svg xmlns=\"http://www.w3.org/2000/svg\" height=\"24px\"viewBox=\"0 0 24 24\"\n",
              "       width=\"24px\">\n",
              "    <path d=\"M0 0h24v24H0V0z\" fill=\"none\"/>\n",
              "    <path d=\"M18.56 5.44l.94 2.06.94-2.06 2.06-.94-2.06-.94-.94-2.06-.94 2.06-2.06.94zm-11 1L8.5 8.5l.94-2.06 2.06-.94-2.06-.94L8.5 2.5l-.94 2.06-2.06.94zm10 10l.94 2.06.94-2.06 2.06-.94-2.06-.94-.94-2.06-.94 2.06-2.06.94z\"/><path d=\"M17.41 7.96l-1.37-1.37c-.4-.4-.92-.59-1.43-.59-.52 0-1.04.2-1.43.59L10.3 9.45l-7.72 7.72c-.78.78-.78 2.05 0 2.83L4 21.41c.39.39.9.59 1.41.59.51 0 1.02-.2 1.41-.59l7.78-7.78 2.81-2.81c.8-.78.8-2.07 0-2.86zM5.41 20L4 18.59l7.72-7.72 1.47 1.35L5.41 20z\"/>\n",
              "  </svg>\n",
              "      </button>\n",
              "      \n",
              "  <style>\n",
              "    .colab-df-container {\n",
              "      display:flex;\n",
              "      flex-wrap:wrap;\n",
              "      gap: 12px;\n",
              "    }\n",
              "\n",
              "    .colab-df-convert {\n",
              "      background-color: #E8F0FE;\n",
              "      border: none;\n",
              "      border-radius: 50%;\n",
              "      cursor: pointer;\n",
              "      display: none;\n",
              "      fill: #1967D2;\n",
              "      height: 32px;\n",
              "      padding: 0 0 0 0;\n",
              "      width: 32px;\n",
              "    }\n",
              "\n",
              "    .colab-df-convert:hover {\n",
              "      background-color: #E2EBFA;\n",
              "      box-shadow: 0px 1px 2px rgba(60, 64, 67, 0.3), 0px 1px 3px 1px rgba(60, 64, 67, 0.15);\n",
              "      fill: #174EA6;\n",
              "    }\n",
              "\n",
              "    [theme=dark] .colab-df-convert {\n",
              "      background-color: #3B4455;\n",
              "      fill: #D2E3FC;\n",
              "    }\n",
              "\n",
              "    [theme=dark] .colab-df-convert:hover {\n",
              "      background-color: #434B5C;\n",
              "      box-shadow: 0px 1px 3px 1px rgba(0, 0, 0, 0.15);\n",
              "      filter: drop-shadow(0px 1px 2px rgba(0, 0, 0, 0.3));\n",
              "      fill: #FFFFFF;\n",
              "    }\n",
              "  </style>\n",
              "\n",
              "      <script>\n",
              "        const buttonEl =\n",
              "          document.querySelector('#df-da51f9f4-97a4-49e9-a5ee-c5f801d66fcd button.colab-df-convert');\n",
              "        buttonEl.style.display =\n",
              "          google.colab.kernel.accessAllowed ? 'block' : 'none';\n",
              "\n",
              "        async function convertToInteractive(key) {\n",
              "          const element = document.querySelector('#df-da51f9f4-97a4-49e9-a5ee-c5f801d66fcd');\n",
              "          const dataTable =\n",
              "            await google.colab.kernel.invokeFunction('convertToInteractive',\n",
              "                                                     [key], {});\n",
              "          if (!dataTable) return;\n",
              "\n",
              "          const docLinkHtml = 'Like what you see? Visit the ' +\n",
              "            '<a target=\"_blank\" href=https://colab.research.google.com/notebooks/data_table.ipynb>data table notebook</a>'\n",
              "            + ' to learn more about interactive tables.';\n",
              "          element.innerHTML = '';\n",
              "          dataTable['output_type'] = 'display_data';\n",
              "          await google.colab.output.renderOutput(dataTable, element);\n",
              "          const docLink = document.createElement('div');\n",
              "          docLink.innerHTML = docLinkHtml;\n",
              "          element.appendChild(docLink);\n",
              "        }\n",
              "      </script>\n",
              "    </div>\n",
              "  </div>\n",
              "  "
            ]
          },
          "metadata": {},
          "execution_count": 20
        }
      ]
    },
    {
      "cell_type": "markdown",
      "source": [
        "#### 👉🔢 Agrupando os valores de colunas com muitas classes + Transformando as classes em valores numéricos "
      ],
      "metadata": {
        "id": "4NnkgPkyjAiy"
      }
    },
    {
      "cell_type": "markdown",
      "source": [
        "##### **Agrupamento de renda mensal da família**"
      ],
      "metadata": {
        "id": "-KnMKog4PVGv"
      }
    },
    {
      "cell_type": "code",
      "source": [
        "model_df['renda mensal'].value_counts()"
      ],
      "metadata": {
        "colab": {
          "base_uri": "https://localhost:8080/"
        },
        "id": "-89b4u_wJyjg",
        "outputId": "4fce5885-bdb4-4396-b662-efc45ca53968"
      },
      "execution_count": null,
      "outputs": [
        {
          "output_type": "execute_result",
          "data": {
            "text/plain": [
              "B    63518\n",
              "C    37805\n",
              "D    30652\n",
              "F    19427\n",
              "G    17071\n",
              "E    16845\n",
              "H    13816\n",
              "A    13536\n",
              "I     8666\n",
              "M     5453\n",
              "J     5280\n",
              "Q     4746\n",
              "K     4220\n",
              "O     3775\n",
              "P     3720\n",
              "L     3644\n",
              "N     3302\n",
              "Name: renda mensal, dtype: int64"
            ]
          },
          "metadata": {},
          "execution_count": 21
        }
      ]
    },
    {
      "cell_type": "markdown",
      "source": [
        "Q006: \"Qual é a renda mensal de sua família? (Some a sua renda com a dos seus familiares.)\"\n",
        "\n",
        "O valores possíveis são grupos de A-Q com ranges de renda progressivos. Por exemplo, o grupo B respondeu que a renda mensal da sua família era de R$ 998,01 até 1.497,00.\n",
        "\n",
        "Para simplificar a análise, agruparei esses grupos em 5. De modo que:\n",
        "\n",
        "Grupo 0: Respondeu que a família não possui nenhuma renda\n",
        "\n",
        "Grupo 1: Respondeu que a família possui renda entre R$ 998,01 e R\\$ 2.495,00\n",
        "\n",
        "Grupo 2: Respondeu que a família possui renda entre R$ 2.495,00 e R\\$ 5.988,00\n",
        "\n",
        "Grupo 3: Respondeu que a família possui renda entre R$ 5.988,00 e R\\$ 9.980,00\n",
        "\n",
        "Grupo 4: Respondeu que a família possui renda entre R$ 9.980,00 e R\\$ 19.960,00 ou mais"
      ],
      "metadata": {
        "id": "z81KlcE8j9Qf"
      }
    },
    {
      "cell_type": "code",
      "source": [
        "def subgrupos(x):\n",
        "    if x =='A':\n",
        "        return 0\n",
        "    if x in 'BCDE':\n",
        "        return 1\n",
        "    if x in 'FGHI': \n",
        "        return 2\n",
        "    if x in 'JKLM': \n",
        "        return 3\n",
        "    if x in 'NOPQ': \n",
        "        return 4"
      ],
      "metadata": {
        "id": "dSbQha-iiKWP"
      },
      "execution_count": null,
      "outputs": []
    },
    {
      "cell_type": "code",
      "source": [
        "model_df['renda mensal'] = model_df['renda mensal'].apply(subgrupos)"
      ],
      "metadata": {
        "id": "OXl1AttbPhqp"
      },
      "execution_count": null,
      "outputs": []
    },
    {
      "cell_type": "code",
      "source": [
        "model_df['renda mensal'].value_counts()"
      ],
      "metadata": {
        "colab": {
          "base_uri": "https://localhost:8080/"
        },
        "id": "xKymdNHcMwVq",
        "outputId": "a57fa08b-d373-450e-d641-6b25401303e4"
      },
      "execution_count": null,
      "outputs": [
        {
          "output_type": "execute_result",
          "data": {
            "text/plain": [
              "1    148820\n",
              "2     58980\n",
              "3     18597\n",
              "4     15543\n",
              "0     13536\n",
              "Name: renda mensal, dtype: int64"
            ]
          },
          "metadata": {},
          "execution_count": 24
        }
      ]
    },
    {
      "cell_type": "markdown",
      "source": [
        "##### **Agrupamento de faixas etárias**"
      ],
      "metadata": {
        "id": "9w3BAEIkkC3V"
      }
    },
    {
      "cell_type": "code",
      "source": [
        "model_df['faixa etaria'].value_counts()"
      ],
      "metadata": {
        "colab": {
          "base_uri": "https://localhost:8080/"
        },
        "id": "ea3u7WvvQohZ",
        "outputId": "d10822a7-67fc-4021-e1de-f3403b64d094"
      },
      "execution_count": null,
      "outputs": [
        {
          "output_type": "execute_result",
          "data": {
            "text/plain": [
              "2     114318\n",
              "3     108322\n",
              "4      19336\n",
              "5       5403\n",
              "1       3091\n",
              "6       1694\n",
              "7        688\n",
              "11       619\n",
              "12       390\n",
              "8        365\n",
              "9        275\n",
              "13       273\n",
              "14       209\n",
              "10       182\n",
              "15       140\n",
              "16       100\n",
              "17        49\n",
              "18        14\n",
              "20         4\n",
              "19         4\n",
              "Name: faixa etaria, dtype: int64"
            ]
          },
          "metadata": {},
          "execution_count": 25
        }
      ]
    },
    {
      "cell_type": "code",
      "source": [
        "def subgrupos_etarios(x):\n",
        "    if x == 1:\n",
        "        return 0\n",
        "    if x in [2, 3, 4, 5, 6, 7, 8, 9]:\n",
        "        return 1\n",
        "    if x in [10, 11, 12, 13, 14, 15]: \n",
        "        return 2\n",
        "    if x in [16, 17, 18, 19, 20]: \n",
        "        return 3"
      ],
      "metadata": {
        "id": "mfGvLdrmPuo7"
      },
      "execution_count": null,
      "outputs": []
    },
    {
      "cell_type": "code",
      "source": [
        "model_df['faixa etaria'] = model_df['faixa etaria'].apply(subgrupos_etarios)"
      ],
      "metadata": {
        "id": "YxRw2E-cRxkG"
      },
      "execution_count": null,
      "outputs": []
    },
    {
      "cell_type": "markdown",
      "source": [
        "#### 🧹🪣 Retirando linhas nas quais o canditato preferiu não responder sua cor ou raça ou não dispunha da informação"
      ],
      "metadata": {
        "id": "C3mLgy89kKZE"
      }
    },
    {
      "cell_type": "code",
      "source": [
        "remove_2 = model_df.loc[(model_df['cor ou raça'] == 0) | (model_df['cor ou raça'] == 6)]\n",
        "model_df = model_df.drop(remove_2.index)\n",
        "model_df.info()"
      ],
      "metadata": {
        "colab": {
          "base_uri": "https://localhost:8080/"
        },
        "id": "AX9b3sVOSE3_",
        "outputId": "56e9a664-27fe-4fa9-99a4-b59bd66876bc"
      },
      "execution_count": null,
      "outputs": [
        {
          "output_type": "stream",
          "name": "stdout",
          "text": [
            "<class 'pandas.core.frame.DataFrame'>\n",
            "Int64Index: 250092 entries, 6 to 1016169\n",
            "Data columns (total 11 columns):\n",
            " #   Column            Non-Null Count   Dtype  \n",
            "---  ------            --------------   -----  \n",
            " 0   tipo escola       250092 non-null  int64  \n",
            " 1   faixa etaria      250092 non-null  int64  \n",
            " 2   cor ou raça       250092 non-null  int64  \n",
            " 3   escolaridade pai  250092 non-null  object \n",
            " 4   escolaridade mãe  250092 non-null  object \n",
            " 5   qtd moradores     250092 non-null  float64\n",
            " 6   renda mensal      250092 non-null  int64  \n",
            " 7   qtd computadores  250092 non-null  object \n",
            " 8   acesso internet   250092 non-null  object \n",
            " 9   nota matematica   250092 non-null  float64\n",
            " 10  top 15%?          250092 non-null  bool   \n",
            "dtypes: bool(1), float64(2), int64(4), object(4)\n",
            "memory usage: 21.2+ MB\n"
          ]
        }
      ]
    },
    {
      "cell_type": "markdown",
      "source": [
        "#### 🧹🪣 Retirando linhas nas quais o canditato não dispunha da informação sobre a escolaridade dos seus pais"
      ],
      "metadata": {
        "id": "PqOO5dpCksod"
      }
    },
    {
      "cell_type": "code",
      "source": [
        "remove_3 = model_df.loc[(model_df['escolaridade pai'] == 'H')]\n",
        "model_df = model_df.drop(remove_3.index)\n",
        "model_df.info()"
      ],
      "metadata": {
        "colab": {
          "base_uri": "https://localhost:8080/"
        },
        "id": "_YAHOULrTtpW",
        "outputId": "1ffac28d-3d7d-4368-ab75-88aa0bd8174a"
      },
      "execution_count": null,
      "outputs": [
        {
          "output_type": "stream",
          "name": "stdout",
          "text": [
            "<class 'pandas.core.frame.DataFrame'>\n",
            "Int64Index: 229381 entries, 6 to 1016169\n",
            "Data columns (total 11 columns):\n",
            " #   Column            Non-Null Count   Dtype  \n",
            "---  ------            --------------   -----  \n",
            " 0   tipo escola       229381 non-null  int64  \n",
            " 1   faixa etaria      229381 non-null  int64  \n",
            " 2   cor ou raça       229381 non-null  int64  \n",
            " 3   escolaridade pai  229381 non-null  object \n",
            " 4   escolaridade mãe  229381 non-null  object \n",
            " 5   qtd moradores     229381 non-null  float64\n",
            " 6   renda mensal      229381 non-null  int64  \n",
            " 7   qtd computadores  229381 non-null  object \n",
            " 8   acesso internet   229381 non-null  object \n",
            " 9   nota matematica   229381 non-null  float64\n",
            " 10  top 15%?          229381 non-null  bool   \n",
            "dtypes: bool(1), float64(2), int64(4), object(4)\n",
            "memory usage: 19.5+ MB\n"
          ]
        }
      ]
    },
    {
      "cell_type": "code",
      "source": [
        "remove_4 = model_df.loc[(model_df['escolaridade mãe'] == 'H')]\n",
        "model_df = model_df.drop(remove_4.index)\n",
        "model_df.info()"
      ],
      "metadata": {
        "colab": {
          "base_uri": "https://localhost:8080/"
        },
        "id": "mRU0pXIaVybq",
        "outputId": "677b3215-6569-49f9-d2d6-c265f105e0b6"
      },
      "execution_count": null,
      "outputs": [
        {
          "output_type": "stream",
          "name": "stdout",
          "text": [
            "<class 'pandas.core.frame.DataFrame'>\n",
            "Int64Index: 227263 entries, 6 to 1016169\n",
            "Data columns (total 11 columns):\n",
            " #   Column            Non-Null Count   Dtype  \n",
            "---  ------            --------------   -----  \n",
            " 0   tipo escola       227263 non-null  int64  \n",
            " 1   faixa etaria      227263 non-null  int64  \n",
            " 2   cor ou raça       227263 non-null  int64  \n",
            " 3   escolaridade pai  227263 non-null  object \n",
            " 4   escolaridade mãe  227263 non-null  object \n",
            " 5   qtd moradores     227263 non-null  float64\n",
            " 6   renda mensal      227263 non-null  int64  \n",
            " 7   qtd computadores  227263 non-null  object \n",
            " 8   acesso internet   227263 non-null  object \n",
            " 9   nota matematica   227263 non-null  float64\n",
            " 10  top 15%?          227263 non-null  bool   \n",
            "dtypes: bool(1), float64(2), int64(4), object(4)\n",
            "memory usage: 19.3+ MB\n"
          ]
        }
      ]
    },
    {
      "cell_type": "markdown",
      "source": [
        "**Agrupamento de classes referentes a escolaridade dos pais**"
      ],
      "metadata": {
        "id": "WV0FEInVkyeT"
      }
    },
    {
      "cell_type": "code",
      "source": [
        "def subgrupos_escolaridade(x):\n",
        "    if x =='A':\n",
        "        return 0\n",
        "    if x in 'BC':\n",
        "        return 1\n",
        "    if x in 'DE': \n",
        "        return 2\n",
        "    if x in 'FG': \n",
        "        return 3"
      ],
      "metadata": {
        "id": "ME2OJPnrafFk"
      },
      "execution_count": null,
      "outputs": []
    },
    {
      "cell_type": "code",
      "source": [
        "model_df['escolaridade pai'] = model_df['escolaridade pai'].apply(subgrupos_escolaridade)"
      ],
      "metadata": {
        "id": "NVyo5mgxawUY"
      },
      "execution_count": null,
      "outputs": []
    },
    {
      "cell_type": "code",
      "source": [
        "model_df['escolaridade mãe'] = model_df['escolaridade mãe'].apply(subgrupos_escolaridade)"
      ],
      "metadata": {
        "id": "nl_k45f-a4SB"
      },
      "execution_count": null,
      "outputs": []
    },
    {
      "cell_type": "markdown",
      "source": [
        "**Agrupamento das classes referentes a quantidade de pessoas que moram na mesma casa que o candidato**"
      ],
      "metadata": {
        "id": "2A1boDb7k7lB"
      }
    },
    {
      "cell_type": "code",
      "source": [
        "def subgrupos_moradores(x):\n",
        "    if x in [1, 2, 3, 4, 5]:\n",
        "        return 1\n",
        "    if x in [6, 7, 8, 9, 10]: \n",
        "        return 2\n",
        "    if x in [11, 12, 13, 14, 15]: \n",
        "        return 3\n",
        "    if x in [16, 17, 18, 19, 20]: \n",
        "        return 4"
      ],
      "metadata": {
        "id": "TsrZpzlrV24C"
      },
      "execution_count": null,
      "outputs": []
    },
    {
      "cell_type": "code",
      "source": [
        "model_df['qtd moradores'] = model_df['qtd moradores'].apply(subgrupos_moradores)"
      ],
      "metadata": {
        "id": "uuz1ENcbZ01m"
      },
      "execution_count": null,
      "outputs": []
    },
    {
      "cell_type": "markdown",
      "source": [
        "#### 👉🔢 Transformando as classes da coluna \"acesso a internet\" em valores numéricos"
      ],
      "metadata": {
        "id": "_q2HayhBmQbv"
      }
    },
    {
      "cell_type": "code",
      "source": [
        "model_df['acesso internet'] = model_df['acesso internet'].apply(lambda x: 1 if x == 'B' else 0) "
      ],
      "metadata": {
        "id": "u0jhtoQeZ_bn"
      },
      "execution_count": null,
      "outputs": []
    },
    {
      "cell_type": "markdown",
      "source": [
        "**Agrupamento das classes referentes a quantidade de computadores presentes na casa do candidato**"
      ],
      "metadata": {
        "id": "kh-T40hSlmgP"
      }
    },
    {
      "cell_type": "code",
      "source": [
        "def subgrupos_computadores(x):\n",
        "    if x =='A':\n",
        "        return 0\n",
        "    if x in 'BC':\n",
        "        return 1\n",
        "    if x in 'DE': \n",
        "        return 2"
      ],
      "metadata": {
        "id": "r-Fla_Ehb8hS"
      },
      "execution_count": null,
      "outputs": []
    },
    {
      "cell_type": "code",
      "source": [
        "model_df['qtd computadores'] = model_df['qtd computadores'].apply(subgrupos_computadores)"
      ],
      "metadata": {
        "id": "425JCeGRcXkQ"
      },
      "execution_count": null,
      "outputs": []
    },
    {
      "cell_type": "code",
      "source": [
        "model_df.info()"
      ],
      "metadata": {
        "colab": {
          "base_uri": "https://localhost:8080/"
        },
        "id": "qjwLP6HHcmVG",
        "outputId": "ed9e8ce8-841c-418b-fdda-125941a7b6b8"
      },
      "execution_count": null,
      "outputs": [
        {
          "output_type": "stream",
          "name": "stdout",
          "text": [
            "<class 'pandas.core.frame.DataFrame'>\n",
            "Int64Index: 227263 entries, 6 to 1016169\n",
            "Data columns (total 11 columns):\n",
            " #   Column            Non-Null Count   Dtype  \n",
            "---  ------            --------------   -----  \n",
            " 0   tipo escola       227263 non-null  int64  \n",
            " 1   faixa etaria      227263 non-null  int64  \n",
            " 2   cor ou raça       227263 non-null  int64  \n",
            " 3   escolaridade pai  227263 non-null  int64  \n",
            " 4   escolaridade mãe  227263 non-null  int64  \n",
            " 5   qtd moradores     227263 non-null  int64  \n",
            " 6   renda mensal      227263 non-null  int64  \n",
            " 7   qtd computadores  227263 non-null  int64  \n",
            " 8   acesso internet   227263 non-null  int64  \n",
            " 9   nota matematica   227263 non-null  float64\n",
            " 10  top 15%?          227263 non-null  bool   \n",
            "dtypes: bool(1), float64(1), int64(9)\n",
            "memory usage: 19.3 MB\n"
          ]
        }
      ]
    },
    {
      "cell_type": "code",
      "source": [
        "np.mean(model_df['nota matematica'])"
      ],
      "metadata": {
        "colab": {
          "base_uri": "https://localhost:8080/"
        },
        "id": "kVxIQU2F9Jaj",
        "outputId": "bcde85d3-1da6-410f-bec3-7d5edae769a6"
      },
      "execution_count": null,
      "outputs": [
        {
          "output_type": "execute_result",
          "data": {
            "text/plain": [
              "532.8781301839717"
            ]
          },
          "metadata": {},
          "execution_count": 40
        }
      ]
    },
    {
      "cell_type": "markdown",
      "source": [
        "#### 🔮 Importando o classificador Gaussian Naive Bayes"
      ],
      "metadata": {
        "id": "wyWcs2f2nQMm"
      }
    },
    {
      "cell_type": "markdown",
      "source": [
        "Nesse algoritmo, a probabilidade das features é assumida como uma gaussiana:"
      ],
      "metadata": {
        "id": "w4fb-_G3n5hB"
      }
    },
    {
      "cell_type": "markdown",
      "source": [
        "$P(x_i \\mid y) = \\frac{1}{\\sqrt{2\\pi\\sigma^2_y}} \\exp\\left(-\\frac{(x_i - \\mu_y)^2}{2\\sigma^2_y}\\right)$"
      ],
      "metadata": {
        "id": "J-GvLwwNnvZN"
      }
    },
    {
      "cell_type": "markdown",
      "source": [
        "Os parametros $\\sigma_y$ e $\\mu_y$ são estimados usando a máxima verossimilhança."
      ],
      "metadata": {
        "id": "286H9cwKoI9f"
      }
    },
    {
      "cell_type": "code",
      "source": [
        "from sklearn.naive_bayes import GaussianNB\n",
        "from sklearn.model_selection import train_test_split\n",
        "from sklearn.metrics import classification_report\n",
        "from sklearn.metrics import confusion_matrix"
      ],
      "metadata": {
        "id": "dWg-pGFYcvCt"
      },
      "execution_count": null,
      "outputs": []
    },
    {
      "cell_type": "code",
      "source": [
        "from matplotlib import rcParams\n",
        "\n",
        "rcParams['figure.figsize'] = 15, 6"
      ],
      "metadata": {
        "id": "oiXrjRu96_aK"
      },
      "execution_count": null,
      "outputs": []
    },
    {
      "cell_type": "markdown",
      "source": [
        "#### 🗂️ Definindo o vetor de variáveis independentes e a target:"
      ],
      "metadata": {
        "id": "dNoTf8hDoVMg"
      }
    },
    {
      "cell_type": "code",
      "source": [
        "X = model_df[['tipo escola', 'faixa etaria', 'cor ou raça','escolaridade pai', 'escolaridade mãe', 'qtd moradores', 'renda mensal', 'qtd computadores', 'acesso internet']]\n",
        "Y = model_df['top 15%?']"
      ],
      "metadata": {
        "id": "RVT6fPINdI3a"
      },
      "execution_count": null,
      "outputs": []
    },
    {
      "cell_type": "markdown",
      "source": [
        "#### ✂️ Separando nosso dataset em um set de treino e um set de teste"
      ],
      "metadata": {
        "id": "vfVqO8rLooik"
      }
    },
    {
      "cell_type": "code",
      "source": [
        "X_train, X_test, Y_train, Y_test = train_test_split(X, Y, test_size=.2, random_state=0)"
      ],
      "metadata": {
        "id": "yFYgF_aC5fsh"
      },
      "execution_count": null,
      "outputs": []
    },
    {
      "cell_type": "markdown",
      "source": [
        "#### 🏋️ Treinando..."
      ],
      "metadata": {
        "id": "0k9vt0p8o6_X"
      }
    },
    {
      "cell_type": "code",
      "source": [
        "clf = GaussianNB()\n",
        "clf.fit(X_train,Y_train)"
      ],
      "metadata": {
        "colab": {
          "base_uri": "https://localhost:8080/"
        },
        "id": "uPcw8zTq5zhr",
        "outputId": "72a24589-2b59-4a57-d2bf-f4960d20d227"
      },
      "execution_count": null,
      "outputs": [
        {
          "output_type": "execute_result",
          "data": {
            "text/plain": [
              "GaussianNB()"
            ]
          },
          "metadata": {},
          "execution_count": 45
        }
      ]
    },
    {
      "cell_type": "markdown",
      "source": [
        "#### 🤔 Analisando o Classification Report do modelo"
      ],
      "metadata": {
        "id": "mh3jXnKMpXnr"
      }
    },
    {
      "cell_type": "code",
      "source": [
        "Y_pred = clf.predict(X_test)\n",
        "print(classification_report(Y_test,Y_pred))"
      ],
      "metadata": {
        "colab": {
          "base_uri": "https://localhost:8080/"
        },
        "id": "u_UFCy3Q53v1",
        "outputId": "6b4db268-cb8b-4846-bb1c-cc70cfb9b506"
      },
      "execution_count": null,
      "outputs": [
        {
          "output_type": "stream",
          "name": "stdout",
          "text": [
            "              precision    recall  f1-score   support\n",
            "\n",
            "       False       0.92      0.78      0.85     38198\n",
            "        True       0.36      0.66      0.47      7255\n",
            "\n",
            "    accuracy                           0.76     45453\n",
            "   macro avg       0.64      0.72      0.66     45453\n",
            "weighted avg       0.83      0.76      0.79     45453\n",
            "\n"
          ]
        }
      ]
    },
    {
      "cell_type": "code",
      "source": [
        "cf_matrix_nb = confusion_matrix(Y_test, Y_pred)\n",
        "print(cf_matrix_nb)"
      ],
      "metadata": {
        "colab": {
          "base_uri": "https://localhost:8080/"
        },
        "id": "qwNov3sZ5TMk",
        "outputId": "bbdb057e-c9c7-4564-cdd5-a1cabb5307fb"
      },
      "execution_count": null,
      "outputs": [
        {
          "output_type": "stream",
          "name": "stdout",
          "text": [
            "[[29825  8373]\n",
            " [ 2458  4797]]\n"
          ]
        }
      ]
    },
    {
      "cell_type": "code",
      "source": [
        "group_names = ['True Neg','False Pos','False Neg','True Pos']\n",
        "group_counts = [\"{0:0.0f}\".format(value) for value in cf_matrix_nb.flatten()]\n",
        "group_percentages = [\"{0:.2%}\".format(value) for value in cf_matrix_nb.flatten() / np.sum(cf_matrix_nb)]\n",
        "labels = [f\"{v1}\\n{v2}\\n{v3}\" for v1, v2, v3 in zip(group_names, group_counts, group_percentages)]\n",
        "labels = np.asarray(labels).reshape(2, 2)\n",
        "\n",
        "sns.set(font_scale= 2 )\n",
        "sns.heatmap(cf_matrix_nb, annot=labels, fmt= '', cmap='Blues')"
      ],
      "metadata": {
        "colab": {
          "base_uri": "https://localhost:8080/",
          "height": 404
        },
        "id": "RtK4Ulor5uEa",
        "outputId": "18a0e0a8-e4b6-46a0-fc6c-3ce5cb87c3e8"
      },
      "execution_count": null,
      "outputs": [
        {
          "output_type": "execute_result",
          "data": {
            "text/plain": [
              "<matplotlib.axes._subplots.AxesSubplot at 0x7f8179578490>"
            ]
          },
          "metadata": {},
          "execution_count": 48
        },
        {
          "output_type": "display_data",
          "data": {
            "text/plain": [
              "<Figure size 1080x432 with 2 Axes>"
            ],
            "image/png": "[encoded data removed]"
          },
          "metadata": {}
        }
      ]
    },
    {
      "cell_type": "markdown",
      "source": [
        "#### 🔮 Importando o classificador K-Nearest Neighbors"
      ],
      "metadata": {
        "id": "dwEXyf-jprFr"
      }
    },
    {
      "cell_type": "code",
      "source": [
        "from sklearn.neighbors import KNeighborsClassifier"
      ],
      "metadata": {
        "id": "-Ux8HAgl6ARJ"
      },
      "execution_count": null,
      "outputs": []
    },
    {
      "cell_type": "markdown",
      "source": [
        "#### 🏋️ Treinando..."
      ],
      "metadata": {
        "id": "QGDmRPKiqcpp"
      }
    },
    {
      "cell_type": "code",
      "source": [
        "neigh = KNeighborsClassifier(n_neighbors=3)\n",
        "neigh.fit(X_train,Y_train)"
      ],
      "metadata": {
        "colab": {
          "base_uri": "https://localhost:8080/"
        },
        "id": "HFtqtusoqiMA",
        "outputId": "91c4c8f7-a943-4ca5-c2cf-dec5c167d451"
      },
      "execution_count": null,
      "outputs": [
        {
          "output_type": "execute_result",
          "data": {
            "text/plain": [
              "KNeighborsClassifier(n_neighbors=3)"
            ]
          },
          "metadata": {},
          "execution_count": 50
        }
      ]
    },
    {
      "cell_type": "markdown",
      "source": [
        "#### 🤔 Analisando o Classification Report do modelo"
      ],
      "metadata": {
        "id": "Hrii9IIZqPN6"
      }
    },
    {
      "cell_type": "code",
      "source": [
        "Y_pred_knn = neigh.predict(X_test)\n",
        "print(classification_report(Y_test,Y_pred_knn))"
      ],
      "metadata": {
        "colab": {
          "base_uri": "https://localhost:8080/"
        },
        "id": "2irHQelOAcCJ",
        "outputId": "3afd305a-88e8-4600-f3e0-77d9a773810f"
      },
      "execution_count": null,
      "outputs": [
        {
          "output_type": "stream",
          "name": "stdout",
          "text": [
            "              precision    recall  f1-score   support\n",
            "\n",
            "       False       0.86      0.94      0.90     38198\n",
            "        True       0.41      0.22      0.28      7255\n",
            "\n",
            "    accuracy                           0.83     45453\n",
            "   macro avg       0.64      0.58      0.59     45453\n",
            "weighted avg       0.79      0.83      0.80     45453\n",
            "\n"
          ]
        }
      ]
    },
    {
      "cell_type": "code",
      "source": [
        "cf_matrix_knn = confusion_matrix(Y_test, Y_pred_knn)\n",
        "print(cf_matrix_nb)"
      ],
      "metadata": {
        "colab": {
          "base_uri": "https://localhost:8080/"
        },
        "id": "gq6Ak53iLdDk",
        "outputId": "55712729-91b0-4e94-c3fd-e901830104e1"
      },
      "execution_count": null,
      "outputs": [
        {
          "output_type": "stream",
          "name": "stdout",
          "text": [
            "[[29825  8373]\n",
            " [ 2458  4797]]\n"
          ]
        }
      ]
    },
    {
      "cell_type": "code",
      "source": [
        "group_names = ['True Neg','False Pos','False Neg','True Pos']\n",
        "group_counts = [\"{0:0.0f}\".format(value) for value in cf_matrix_knn.flatten()]\n",
        "group_percentages = [\"{0:.2%}\".format(value) for value in cf_matrix_knn.flatten() / np.sum(cf_matrix_knn)]\n",
        "labels = [f\"{v1}\\n{v2}\\n{v3}\" for v1, v2, v3 in zip(group_names, group_counts, group_percentages)]\n",
        "labels = np.asarray(labels).reshape(2, 2)\n",
        "\n",
        "sns.set(font_scale= 2 )\n",
        "sns.heatmap(cf_matrix_knn, annot=labels, fmt= '', cmap='Blues')"
      ],
      "metadata": {
        "colab": {
          "base_uri": "https://localhost:8080/",
          "height": 404
        },
        "id": "YygI6fqJLjOS",
        "outputId": "fec3f5d7-478e-4397-c208-414d25fd2ae2"
      },
      "execution_count": null,
      "outputs": [
        {
          "output_type": "execute_result",
          "data": {
            "text/plain": [
              "<matplotlib.axes._subplots.AxesSubplot at 0x7f81762e2910>"
            ]
          },
          "metadata": {},
          "execution_count": 53
        },
        {
          "output_type": "display_data",
          "data": {
            "text/plain": [
              "<Figure size 1080x432 with 2 Axes>"
            ],
            "image/png": "[encoded data removed]"
          },
          "metadata": {}
        }
      ]
    },
    {
      "cell_type": "markdown",
      "source": [
        "#### 🔮 Importando o classificador Decision Tree"
      ],
      "metadata": {
        "id": "oBMYkk0ysxz7"
      }
    },
    {
      "cell_type": "code",
      "source": [
        "from sklearn import tree"
      ],
      "metadata": {
        "id": "94kQIIFUADzH"
      },
      "execution_count": null,
      "outputs": []
    },
    {
      "cell_type": "markdown",
      "source": [
        "#### 🏋️ Treinando..."
      ],
      "metadata": {
        "id": "pDYsXPFfs7hd"
      }
    },
    {
      "cell_type": "code",
      "source": [
        "dtree = tree.DecisionTreeClassifier()\n",
        "dtree.fit(X_train,Y_train)"
      ],
      "metadata": {
        "id": "v5JZpK1Up4Gt",
        "colab": {
          "base_uri": "https://localhost:8080/"
        },
        "outputId": "a3bbac1b-1081-40dd-9b70-5deb5c73559f"
      },
      "execution_count": null,
      "outputs": [
        {
          "output_type": "execute_result",
          "data": {
            "text/plain": [
              "DecisionTreeClassifier()"
            ]
          },
          "metadata": {},
          "execution_count": 55
        }
      ]
    },
    {
      "cell_type": "markdown",
      "source": [
        "#### 🤔 Analisando o Classification Report do modelo"
      ],
      "metadata": {
        "id": "OruORqe8s9-q"
      }
    },
    {
      "cell_type": "code",
      "source": [
        "Y_pred_dtree = dtree.predict(X_test)\n",
        "print(classification_report(Y_test,Y_pred_dtree))"
      ],
      "metadata": {
        "id": "BcHZdQggFxFR",
        "colab": {
          "base_uri": "https://localhost:8080/"
        },
        "outputId": "f7984e55-354f-4071-c3df-a0a12fa53ce2"
      },
      "execution_count": null,
      "outputs": [
        {
          "output_type": "stream",
          "name": "stdout",
          "text": [
            "              precision    recall  f1-score   support\n",
            "\n",
            "       False       0.87      0.97      0.92     38198\n",
            "        True       0.58      0.20      0.30      7255\n",
            "\n",
            "    accuracy                           0.85     45453\n",
            "   macro avg       0.72      0.59      0.61     45453\n",
            "weighted avg       0.82      0.85      0.82     45453\n",
            "\n"
          ]
        }
      ]
    },
    {
      "cell_type": "markdown",
      "source": [
        "#### 🔮 Importando o classificador Logistic Regression"
      ],
      "metadata": {
        "id": "jQi4Mi-Ftxr8"
      }
    },
    {
      "cell_type": "code",
      "source": [
        "from sklearn.linear_model import LogisticRegression"
      ],
      "metadata": {
        "id": "vdOBQReKrNZQ"
      },
      "execution_count": null,
      "outputs": []
    },
    {
      "cell_type": "markdown",
      "source": [
        "#### 🏋️ Treinando..."
      ],
      "metadata": {
        "id": "8uhOcN9it-Al"
      }
    },
    {
      "cell_type": "code",
      "source": [
        "logisticRegr = LogisticRegression()\n",
        "logisticRegr.fit(X_train,Y_train)"
      ],
      "metadata": {
        "colab": {
          "base_uri": "https://localhost:8080/"
        },
        "id": "Vh0YxQ9dte2q",
        "outputId": "0f74fff4-71c1-4258-a4cc-06c0f66914b8"
      },
      "execution_count": null,
      "outputs": [
        {
          "output_type": "execute_result",
          "data": {
            "text/plain": [
              "LogisticRegression()"
            ]
          },
          "metadata": {},
          "execution_count": 58
        }
      ]
    },
    {
      "cell_type": "markdown",
      "source": [
        "#### 🤔 Analisando o Classification Report do modelo"
      ],
      "metadata": {
        "id": "SEBOrZWTuBBE"
      }
    },
    {
      "cell_type": "code",
      "source": [
        "Y_pred_reg = logisticRegr.predict(X_test)\n",
        "print(classification_report(Y_test,Y_pred_reg))"
      ],
      "metadata": {
        "colab": {
          "base_uri": "https://localhost:8080/"
        },
        "id": "Pn-WTNv-tjZc",
        "outputId": "1802b254-9b06-4bc3-ab45-5ab3398b1c76"
      },
      "execution_count": null,
      "outputs": [
        {
          "output_type": "stream",
          "name": "stdout",
          "text": [
            "              precision    recall  f1-score   support\n",
            "\n",
            "       False       0.87      0.97      0.92     38198\n",
            "        True       0.58      0.23      0.33      7255\n",
            "\n",
            "    accuracy                           0.85     45453\n",
            "   macro avg       0.72      0.60      0.63     45453\n",
            "weighted avg       0.82      0.85      0.82     45453\n",
            "\n"
          ]
        }
      ]
    },
    {
      "cell_type": "markdown",
      "source": [
        "#### 🔮 Importando o classificador Random Forest"
      ],
      "metadata": {
        "id": "VC0KjF9dcsL5"
      }
    },
    {
      "cell_type": "code",
      "source": [
        "from sklearn.ensemble import RandomForestClassifier"
      ],
      "metadata": {
        "id": "R8TJiWmbMkAL"
      },
      "execution_count": null,
      "outputs": []
    },
    {
      "cell_type": "markdown",
      "source": [
        "#### 🏋️ Treinando..."
      ],
      "metadata": {
        "id": "APJTwx8ic1ds"
      }
    },
    {
      "cell_type": "code",
      "source": [
        "randomf = RandomForestClassifier(random_state=0)\n",
        "randomf.fit(X_train,Y_train)"
      ],
      "metadata": {
        "colab": {
          "base_uri": "https://localhost:8080/"
        },
        "id": "TNIZYtBeMlE-",
        "outputId": "0230809c-b960-43a8-e0bf-4fb73681274b"
      },
      "execution_count": null,
      "outputs": [
        {
          "output_type": "execute_result",
          "data": {
            "text/plain": [
              "RandomForestClassifier(random_state=0)"
            ]
          },
          "metadata": {},
          "execution_count": 61
        }
      ]
    },
    {
      "cell_type": "markdown",
      "source": [
        "#### 🤔 Analisando o Classification Report do modelo"
      ],
      "metadata": {
        "id": "S8Smf0Dnc4iC"
      }
    },
    {
      "cell_type": "code",
      "source": [
        "Y_pred_rf = randomf.predict(X_test)\n",
        "print(classification_report(Y_test,Y_pred_rf))"
      ],
      "metadata": {
        "colab": {
          "base_uri": "https://localhost:8080/"
        },
        "id": "VkhwFxapM0in",
        "outputId": "83273ba7-4c1b-4c62-c3d4-36725bf62843"
      },
      "execution_count": null,
      "outputs": [
        {
          "output_type": "stream",
          "name": "stdout",
          "text": [
            "              precision    recall  f1-score   support\n",
            "\n",
            "       False       0.87      0.97      0.92     38198\n",
            "        True       0.58      0.20      0.30      7255\n",
            "\n",
            "    accuracy                           0.85     45453\n",
            "   macro avg       0.72      0.59      0.61     45453\n",
            "weighted avg       0.82      0.85      0.82     45453\n",
            "\n"
          ]
        }
      ]
    },
    {
      "cell_type": "markdown",
      "source": [
        "#### 🔎 Shap Values: identificando quais features foram mais importantes para os nossos modelos"
      ],
      "metadata": {
        "id": "R8x21p3Gwlax"
      }
    },
    {
      "cell_type": "markdown",
      "source": [
        "SHAP Values (SHapley Additive exPlanations) é um método baseado na teoria dos jogos usado para aumentar a transparência e a interpretabilidade de modelos de aprendizado de máquina."
      ],
      "metadata": {
        "id": "EI6L6z3_Igd-"
      }
    },
    {
      "cell_type": "code",
      "source": [
        "pip install shap"
      ],
      "metadata": {
        "colab": {
          "base_uri": "https://localhost:8080/"
        },
        "id": "Wo0ML7zuH_xj",
        "outputId": "fd8805aa-9a42-4b45-867b-a91f00a3264e"
      },
      "execution_count": null,
      "outputs": [
        {
          "output_type": "stream",
          "name": "stdout",
          "text": [
            "Looking in indexes: https://pypi.org/simple, https://us-python.pkg.dev/colab-wheels/public/simple/\n",
            "Requirement already satisfied: shap in /usr/local/lib/python3.7/dist-packages (0.41.0)\n",
            "Requirement already satisfied: numba in /usr/local/lib/python3.7/dist-packages (from shap) (0.56.3)\n",
            "Requirement already satisfied: slicer==0.0.7 in /usr/local/lib/python3.7/dist-packages (from shap) (0.0.7)\n",
            "Requirement already satisfied: cloudpickle in /usr/local/lib/python3.7/dist-packages (from shap) (1.5.0)\n",
            "Requirement already satisfied: pandas in /usr/local/lib/python3.7/dist-packages (from shap) (1.3.5)\n",
            "Requirement already satisfied: scikit-learn in /usr/local/lib/python3.7/dist-packages (from shap) (1.0.2)\n",
            "Requirement already satisfied: scipy in /usr/local/lib/python3.7/dist-packages (from shap) (1.7.3)\n",
            "Requirement already satisfied: numpy in /usr/local/lib/python3.7/dist-packages (from shap) (1.21.6)\n",
            "Requirement already satisfied: tqdm>4.25.0 in /usr/local/lib/python3.7/dist-packages (from shap) (4.64.1)\n",
            "Requirement already satisfied: packaging>20.9 in /usr/local/lib/python3.7/dist-packages (from shap) (21.3)\n",
            "Requirement already satisfied: pyparsing!=3.0.5,>=2.0.2 in /usr/local/lib/python3.7/dist-packages (from packaging>20.9->shap) (3.0.9)\n",
            "Requirement already satisfied: setuptools in /usr/local/lib/python3.7/dist-packages (from numba->shap) (57.4.0)\n",
            "Requirement already satisfied: importlib-metadata in /usr/local/lib/python3.7/dist-packages (from numba->shap) (4.13.0)\n",
            "Requirement already satisfied: llvmlite<0.40,>=0.39.0dev0 in /usr/local/lib/python3.7/dist-packages (from numba->shap) (0.39.1)\n",
            "Requirement already satisfied: typing-extensions>=3.6.4 in /usr/local/lib/python3.7/dist-packages (from importlib-metadata->numba->shap) (4.1.1)\n",
            "Requirement already satisfied: zipp>=0.5 in /usr/local/lib/python3.7/dist-packages (from importlib-metadata->numba->shap) (3.9.0)\n",
            "Requirement already satisfied: python-dateutil>=2.7.3 in /usr/local/lib/python3.7/dist-packages (from pandas->shap) (2.8.2)\n",
            "Requirement already satisfied: pytz>=2017.3 in /usr/local/lib/python3.7/dist-packages (from pandas->shap) (2022.4)\n",
            "Requirement already satisfied: six>=1.5 in /usr/local/lib/python3.7/dist-packages (from python-dateutil>=2.7.3->pandas->shap) (1.15.0)\n",
            "Requirement already satisfied: joblib>=0.11 in /usr/local/lib/python3.7/dist-packages (from scikit-learn->shap) (1.2.0)\n",
            "Requirement already satisfied: threadpoolctl>=2.0.0 in /usr/local/lib/python3.7/dist-packages (from scikit-learn->shap) (3.1.0)\n"
          ]
        }
      ]
    },
    {
      "cell_type": "code",
      "source": [
        "import shap"
      ],
      "metadata": {
        "id": "YHHHTDvN8XV0"
      },
      "execution_count": null,
      "outputs": []
    },
    {
      "cell_type": "code",
      "source": [
        "explainer_clf = shap.Explainer(clf.predict, X_test)\n",
        "shap_values_clf = explainer_clf(X_test)"
      ],
      "metadata": {
        "id": "OXgfrSml8XV1",
        "colab": {
          "base_uri": "https://localhost:8080/"
        },
        "outputId": "3eeab7f3-a380-49cf-8d97-66e835730c40"
      },
      "execution_count": null,
      "outputs": [
        {
          "output_type": "stream",
          "name": "stderr",
          "text": [
            "Exact explainer: 45454it [12:02, 62.57it/s]                           \n"
          ]
        }
      ]
    },
    {
      "cell_type": "code",
      "source": [
        "shap.plots.bar(shap_values_clf)"
      ],
      "metadata": {
        "id": "tpoNhEup8XV1",
        "colab": {
          "base_uri": "https://localhost:8080/",
          "height": 394
        },
        "outputId": "77ebf70f-35db-415a-c0d6-6a8f53b84fb1"
      },
      "execution_count": null,
      "outputs": [
        {
          "output_type": "display_data",
          "data": {
            "text/plain": [
              "<Figure size 576x432 with 1 Axes>"
            ],
            "image/png": "[encoded data removed]"
          },
          "metadata": {}
        }
      ]
    },
    {
      "cell_type": "markdown",
      "source": [
        "#### 🤔 Comparando acurácias de cada modelo"
      ],
      "metadata": {
        "id": "uLc46JNuXctJ"
      }
    },
    {
      "cell_type": "code",
      "source": [
        "from sklearn.metrics import accuracy_score"
      ],
      "metadata": {
        "id": "NY-2ObBYXsj-"
      },
      "execution_count": null,
      "outputs": []
    },
    {
      "cell_type": "code",
      "source": [
        "ac_nb = accuracy_score(Y_test, Y_pred)\n",
        "ac_knn = accuracy_score(Y_test,Y_pred_knn)\n",
        "ac_dtree = accuracy_score(Y_test,Y_pred_dtree)\n",
        "ac_reg = accuracy_score(Y_test,Y_pred_reg)\n",
        "ac_rf = accuracy_score(Y_test,Y_pred_rf)"
      ],
      "metadata": {
        "id": "RnDD9cLIXY0f"
      },
      "execution_count": null,
      "outputs": []
    },
    {
      "cell_type": "code",
      "source": [
        "dic = {'Gaussian NB': ac_nb, 'KNN': ac_knn, 'Decision Tree': ac_dtree, 'Log reg': ac_reg, 'Random Forest': ac_rf}\n",
        "\n",
        "df_ac = pd.DataFrame(data = dic, index=[0, 1, 2, 3])\n",
        "\n",
        "ax = sns.barplot(data = df_ac, palette = 'Blues')\n",
        "ax.set(xlabel='\\nAlgoritmos', ylabel='Acurácia')\n",
        "plt.show()"
      ],
      "metadata": {
        "colab": {
          "base_uri": "https://localhost:8080/"
        },
        "id": "AytlAHoXYZOA",
        "outputId": "7fad4c5b-1748-4ea0-ada3-7ab18a05d960"
      },
      "execution_count": null,
      "outputs": [
        {
          "output_type": "display_data",
          "data": {
            "text/plain": [
              "<Figure size 1080x432 with 1 Axes>"
            ],
            "image/png": "[encoded data removed]"
          },
          "metadata": {}
        }
      ]
    },
    {
      "cell_type": "markdown",
      "source": [
        "#### 🤔 Comparando precisão de cada modelo"
      ],
      "metadata": {
        "id": "Z4DcZwNn_e_3"
      }
    },
    {
      "cell_type": "code",
      "source": [
        "from sklearn.metrics import precision_score"
      ],
      "metadata": {
        "id": "LDihgBwbAHsD"
      },
      "execution_count": null,
      "outputs": []
    },
    {
      "cell_type": "code",
      "source": [
        "pr_nb = precision_score(Y_test, Y_pred)\n",
        "pr_knn = precision_score(Y_test,Y_pred_knn)\n",
        "pr_dtree = precision_score(Y_test,Y_pred_dtree)\n",
        "pr_reg = precision_score(Y_test,Y_pred_reg)\n",
        "pr_rf = precision_score(Y_test,Y_pred_rf)"
      ],
      "metadata": {
        "id": "4Nf8EFvAC1rY"
      },
      "execution_count": null,
      "outputs": []
    },
    {
      "cell_type": "code",
      "source": [
        "dic1 = {'Gaussian NB': pr_nb, 'KNN': pr_knn, 'Decision Tree': pr_dtree, 'Log reg': pr_reg, 'Random Forest': pr_rf}\n",
        "\n",
        "df_pr = pd.DataFrame(data = dic1, index=[0, 1, 2, 3])\n",
        "\n",
        "ax = sns.barplot(data = df_ac, palette = 'Blues')\n",
        "ax.set(xlabel='\\nAlgoritmos', ylabel='Precisão')\n",
        "plt.show()"
      ],
      "metadata": {
        "colab": {
          "base_uri": "https://localhost:8080/",
          "height": 442
        },
        "id": "lWgcc3Ot_eNe",
        "outputId": "385ba2bc-4b64-49e8-ec84-a2fc80b00345"
      },
      "execution_count": null,
      "outputs": [
        {
          "output_type": "display_data",
          "data": {
            "text/plain": [
              "<Figure size 1080x432 with 1 Axes>"
            ],
            "image/png": "[encoded data removed]"
          },
          "metadata": {}
        }
      ]
    },
    {
      "cell_type": "markdown",
      "source": [
        "#### 🤔 Comparando AUC (Area Under the Curve) de cada modelo"
      ],
      "metadata": {
        "id": "M-Rufe73XQdT"
      }
    },
    {
      "cell_type": "code",
      "source": [
        "from sklearn.metrics import roc_auc_score"
      ],
      "metadata": {
        "id": "QIFDZ31rJoGB"
      },
      "execution_count": null,
      "outputs": []
    },
    {
      "cell_type": "code",
      "source": [
        "auc_nb = roc_auc_score(Y_test, Y_pred)\n",
        "auc_knn = roc_auc_score(Y_test,Y_pred_knn)\n",
        "auc_dtree = roc_auc_score(Y_test,Y_pred_dtree)\n",
        "auc_reg = roc_auc_score(Y_test,Y_pred_reg)\n",
        "auc_rf = roc_auc_score(Y_test,Y_pred_rf)\n",
        "\n",
        "auc_nb, auc_knn, auc_dtree, auc_reg"
      ],
      "metadata": {
        "colab": {
          "base_uri": "https://localhost:8080/"
        },
        "id": "X4SiOw71Iri6",
        "outputId": "cfbe274b-c551-4f00-90a0-b87402ee9ab9"
      },
      "execution_count": null,
      "outputs": [
        {
          "output_type": "execute_result",
          "data": {
            "text/plain": [
              "(0.7209996074355793,\n",
              " 0.5786623826542169,\n",
              " 0.5875748868323631,\n",
              " 0.6012443036391072)"
            ]
          },
          "metadata": {},
          "execution_count": 74
        }
      ]
    },
    {
      "cell_type": "code",
      "source": [
        "dic2 = {'Gaussian NB': auc_nb, 'KNN': auc_knn, 'Decision Tree': auc_dtree, 'Log reg': auc_reg, 'Random Forest': auc_rf}\n",
        "\n",
        "df_auc = pd.DataFrame(data = dic2, index=[0, 1, 2, 3])\n",
        "\n",
        "ax = sns.barplot(data = df_auc, palette = 'Blues')\n",
        "ax.set(xlabel='\\nAlgoritmos', ylabel='AUC')\n",
        "plt.show()"
      ],
      "metadata": {
        "colab": {
          "base_uri": "https://localhost:8080/",
          "height": 442
        },
        "id": "RAjQh_ruKLmm",
        "outputId": "cd7aae6e-aa1a-45a3-d318-7fb743ffb2c6"
      },
      "execution_count": null,
      "outputs": [
        {
          "output_type": "display_data",
          "data": {
            "text/plain": [
              "<Figure size 1080x432 with 1 Axes>"
            ],
            "image/png": "[encoded data removed]"
          },
          "metadata": {}
        }
      ]
    },
    {
      "cell_type": "markdown",
      "source": [
        "#### 🤔 Comparando acurácia dos modelos com Cross Validation"
      ],
      "metadata": {
        "id": "7bGeNcUugdO6"
      }
    },
    {
      "cell_type": "markdown",
      "source": [
        "**Naive Bayes**"
      ],
      "metadata": {
        "id": "TTYRLQvI1py7"
      }
    },
    {
      "cell_type": "code",
      "source": [
        "from sklearn.model_selection import cross_val_score\n",
        "\n",
        " \n",
        "cv  = cross_val_score(clf, X_train, Y_train)\n",
        "print(f'Acuracia modelo de treino, utilizando validação cruzada: {cv.mean()}')\n",
        "\n",
        "\n",
        "cv = cross_val_score(clf, X_test, Y_test)\n",
        "print(f'Acuracia modelo de teste, utilizando validação cruzada: {cv.mean()}')\n",
        "cv_nb = cv.mean()\n",
        "clf.fit(X_test, Y_test)"
      ],
      "metadata": {
        "colab": {
          "base_uri": "https://localhost:8080/"
        },
        "id": "jCeYzgivTzl5",
        "outputId": "3c9ae38c-7381-4e02-b1ff-2c536eacec42"
      },
      "execution_count": null,
      "outputs": [
        {
          "output_type": "stream",
          "name": "stdout",
          "text": [
            "Acuracia modelo de treino, utilizando validação cruzada: 0.7637588691491117\n",
            "Acuracia modelo de teste, utilizando validação cruzada: 0.7627219923620345\n"
          ]
        },
        {
          "output_type": "execute_result",
          "data": {
            "text/plain": [
              "GaussianNB()"
            ]
          },
          "metadata": {},
          "execution_count": 76
        }
      ]
    },
    {
      "cell_type": "markdown",
      "source": [
        "**Random Forest**"
      ],
      "metadata": {
        "id": "E2XXzFky1v33"
      }
    },
    {
      "cell_type": "code",
      "source": [
        "cv  = cross_val_score(randomf, X_train, Y_train)\n",
        "print(f'Acuracia modelo de treino, utilizando validação cruzada: {cv.mean()}')\n",
        "\n",
        "\n",
        "cv = cross_val_score(randomf, X_test, Y_test)\n",
        "print(f'Acuracia modelo de teste, utilizando validação cruzada: {cv.mean()}')\n",
        "\n",
        "cv_rf = cv.mean()\n",
        "randomf.fit(X_test, Y_test)"
      ],
      "metadata": {
        "colab": {
          "base_uri": "https://localhost:8080/"
        },
        "id": "93_CO7YUU8Gs",
        "outputId": "be003d75-891a-4349-8479-547432a6ece0"
      },
      "execution_count": null,
      "outputs": [
        {
          "output_type": "stream",
          "name": "stdout",
          "text": [
            "Acuracia modelo de treino, utilizando validação cruzada: 0.8500302513613113\n",
            "Acuracia modelo de teste, utilizando validação cruzada: 0.8474028412631165\n"
          ]
        },
        {
          "output_type": "execute_result",
          "data": {
            "text/plain": [
              "RandomForestClassifier(random_state=0)"
            ]
          },
          "metadata": {},
          "execution_count": 77
        }
      ]
    },
    {
      "cell_type": "markdown",
      "source": [
        "Logistic Regression"
      ],
      "metadata": {
        "id": "xNV2lp__1zxC"
      }
    },
    {
      "cell_type": "code",
      "source": [
        "cv  = cross_val_score(logisticRegr, X_train, Y_train)\n",
        "print(f'Acuracia modelo de treino, utilizando validação cruzada: {cv.mean()}')\n",
        "\n",
        "cv = cross_val_score(logisticRegr, X_test, Y_test)\n",
        "print(f'Acuracia modelo de teste, utilizando validação cruzada: {cv.mean()}')\n",
        "\n",
        "cv_reg = cv.mean()\n",
        "logisticRegr.fit(X_test, Y_test)"
      ],
      "metadata": {
        "colab": {
          "base_uri": "https://localhost:8080/"
        },
        "id": "ZR4XHnl_ZqsE",
        "outputId": "84ac2d0e-5f22-4e6b-f0d2-74838dd83651"
      },
      "execution_count": null,
      "outputs": [
        {
          "output_type": "stream",
          "name": "stdout",
          "text": [
            "Acuracia modelo de treino, utilizando validação cruzada: 0.8505637753698917\n",
            "Acuracia modelo de teste, utilizando validação cruzada: 0.8505489404951934\n"
          ]
        },
        {
          "output_type": "execute_result",
          "data": {
            "text/plain": [
              "LogisticRegression()"
            ]
          },
          "metadata": {},
          "execution_count": 78
        }
      ]
    },
    {
      "cell_type": "markdown",
      "source": [
        "KNN"
      ],
      "metadata": {
        "id": "IhCBXddr15Nh"
      }
    },
    {
      "cell_type": "code",
      "source": [
        "cv  = cross_val_score(neigh, X_train, Y_train)\n",
        "print(f'Acuracia modelo de treino, utilizando validação cruzada: {cv.mean()}')\n",
        "\n",
        "cv = cross_val_score(neigh, X_test, Y_test)\n",
        "print(f'Acuracia modelo de teste, utilizando validação cruzada: {cv.mean()}')\n",
        "\n",
        "cv_knn = cv.mean()\n",
        "neigh.fit(X_test, Y_test)"
      ],
      "metadata": {
        "colab": {
          "base_uri": "https://localhost:8080/"
        },
        "id": "SE0ZZxjmbQnz",
        "outputId": "87be323a-4ff0-4c5c-ddb7-1bff0a11c987"
      },
      "execution_count": null,
      "outputs": [
        {
          "output_type": "stream",
          "name": "stdout",
          "text": [
            "Acuracia modelo de treino, utilizando validação cruzada: 0.8301633573510807\n",
            "Acuracia modelo de teste, utilizando validação cruzada: 0.8055358247297615\n"
          ]
        },
        {
          "output_type": "execute_result",
          "data": {
            "text/plain": [
              "KNeighborsClassifier(n_neighbors=3)"
            ]
          },
          "metadata": {},
          "execution_count": 79
        }
      ]
    },
    {
      "cell_type": "code",
      "source": [
        "rcParams['figure.figsize'] = 13, 6"
      ],
      "metadata": {
        "id": "3w6SEi8AZO-l"
      },
      "execution_count": null,
      "outputs": []
    },
    {
      "cell_type": "code",
      "source": [
        "dic3 = {'Naive Bayes': cv_nb, 'Random Forest': cv_rf, 'Log Regression': cv_reg, 'KNN': cv_knn}\n",
        "\n",
        "df_cv = pd.DataFrame(data = dic3, index=[0, 1])\n",
        "\n",
        "ax = sns.barplot(data = df_cv, palette = 'Blues')\n",
        "ax.set(xlabel='\\nAlgoritmos', ylabel='Acurácia com Cross Validation\\n')\n",
        "plt.show()"
      ],
      "metadata": {
        "colab": {
          "base_uri": "https://localhost:8080/",
          "height": 460
        },
        "id": "-jM9CNG-VWmG",
        "outputId": "b59b2e91-b795-4708-82b7-0712581f991a"
      },
      "execution_count": null,
      "outputs": [
        {
          "output_type": "display_data",
          "data": {
            "text/plain": [
              "<Figure size 936x432 with 1 Axes>"
            ],
            "image/png": "[encoded data removed]"
          },
          "metadata": {}
        }
      ]
    },
    {
      "cell_type": "code",
      "source": [],
      "metadata": {
        "id": "F8QftdrLY7gf"
      },
      "execution_count": null,
      "outputs": []
    }
  ]
}